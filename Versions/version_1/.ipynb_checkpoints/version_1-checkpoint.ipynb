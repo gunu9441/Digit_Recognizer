{
 "cells": [
  {
   "cell_type": "code",
   "execution_count": 2,
   "metadata": {
    "execution": {
     "iopub.execute_input": "2021-09-09T11:00:28.073257Z",
     "iopub.status.busy": "2021-09-09T11:00:28.072891Z",
     "iopub.status.idle": "2021-09-09T11:00:28.078597Z",
     "shell.execute_reply": "2021-09-09T11:00:28.077675Z",
     "shell.execute_reply.started": "2021-09-09T11:00:28.073225Z"
    }
   },
   "outputs": [],
   "source": [
    "import torch\n",
    "import torch.nn as nn\n",
    "import torch.optim as optim\n",
    "from torch.utils.data import DataLoader, Dataset\n",
    "import pandas as pd\n",
    "from sklearn.model_selection import train_test_split\n",
    "import numpy as np"
   ]
  },
  {
   "cell_type": "code",
   "execution_count": 3,
   "metadata": {
    "execution": {
     "iopub.execute_input": "2021-09-09T11:00:28.194379Z",
     "iopub.status.busy": "2021-09-09T11:00:28.194071Z",
     "iopub.status.idle": "2021-09-09T11:00:28.203927Z",
     "shell.execute_reply": "2021-09-09T11:00:28.202891Z",
     "shell.execute_reply.started": "2021-09-09T11:00:28.194352Z"
    }
   },
   "outputs": [],
   "source": [
    "class EarlyStopping:\n",
    "    \"\"\"Early stops the training if validation loss doesn't improve after a given patience.\"\"\"\n",
    "    def __init__(self, patience=7, verbose=False, delta=0, path='checkpoint.pt', trace_func=print):\n",
    "        \"\"\"\n",
    "        Args:\n",
    "            patience (int): How long to wait after last time validation loss improved.\n",
    "                            Default: 7\n",
    "            verbose (bool): If True, prints a message for each validation loss improvement. \n",
    "                            Default: False\n",
    "            delta (float): Minimum change in the monitored quantity to qualify as an improvement.\n",
    "                            Default: 0\n",
    "            path (str): Path for the checkpoint to be saved to.\n",
    "                            Default: 'checkpoint.pt'\n",
    "            trace_func (function): trace print function.\n",
    "                            Default: print            \n",
    "        \"\"\"\n",
    "        self.patience = patience\n",
    "        self.verbose = verbose\n",
    "        self.counter = 0\n",
    "        self.best_score = None\n",
    "        self.early_stop = False\n",
    "        self.val_loss_min = np.Inf\n",
    "        self.delta = delta\n",
    "        self.path = path\n",
    "        self.trace_func = trace_func\n",
    "    def __call__(self, val_loss, model):\n",
    "\n",
    "        score = -val_loss\n",
    "\n",
    "        if self.best_score is None:\n",
    "            self.best_score = score\n",
    "            self.save_checkpoint(val_loss, model)\n",
    "        elif score < self.best_score + self.delta:\n",
    "            self.counter += 1\n",
    "            self.trace_func(f'EarlyStopping counter: {self.counter} out of {self.patience}')\n",
    "            if self.counter >= self.patience:\n",
    "                self.early_stop = True\n",
    "        else:\n",
    "            self.best_score = score\n",
    "            self.save_checkpoint(val_loss, model)\n",
    "            self.counter = 0\n",
    "\n",
    "    def save_checkpoint(self, val_loss, model):\n",
    "        '''Saves model when validation loss decrease.'''\n",
    "        if self.verbose:\n",
    "            self.trace_func(f'Validation loss decreased ({self.val_loss_min:.6f} --> {val_loss:.6f}).  Saving model ...')\n",
    "        torch.save(model.state_dict(), self.path)\n",
    "        self.val_loss_min = val_loss"
   ]
  },
  {
   "cell_type": "code",
   "execution_count": 4,
   "metadata": {
    "execution": {
     "iopub.execute_input": "2021-09-09T11:00:28.326653Z",
     "iopub.status.busy": "2021-09-09T11:00:28.326382Z",
     "iopub.status.idle": "2021-09-09T11:00:28.387151Z",
     "shell.execute_reply": "2021-09-09T11:00:28.386070Z",
     "shell.execute_reply.started": "2021-09-09T11:00:28.326627Z"
    }
   },
   "outputs": [
    {
     "name": "stdout",
     "output_type": "stream",
     "text": [
      "device: cuda\n"
     ]
    }
   ],
   "source": [
    "device = 'cuda' if torch.cuda.is_available() else 'cpu'\n",
    "print('device: {}'.format(device))"
   ]
  },
  {
   "cell_type": "code",
   "execution_count": 5,
   "metadata": {
    "execution": {
     "iopub.execute_input": "2021-09-09T11:00:28.459618Z",
     "iopub.status.busy": "2021-09-09T11:00:28.459357Z",
     "iopub.status.idle": "2021-09-09T11:00:28.467546Z",
     "shell.execute_reply": "2021-09-09T11:00:28.466673Z",
     "shell.execute_reply.started": "2021-09-09T11:00:28.459591Z"
    }
   },
   "outputs": [],
   "source": [
    "torch.manual_seed(777)\n",
    "if device == 'cuda':\n",
    "    torch.cuda.manual_seed_all(777)"
   ]
  },
  {
   "cell_type": "markdown",
   "metadata": {},
   "source": [
    "## EDA"
   ]
  },
  {
   "cell_type": "code",
   "execution_count": 6,
   "metadata": {
    "execution": {
     "iopub.execute_input": "2021-09-09T11:00:28.759609Z",
     "iopub.status.busy": "2021-09-09T11:00:28.759339Z",
     "iopub.status.idle": "2021-09-09T11:00:33.787331Z",
     "shell.execute_reply": "2021-09-09T11:00:33.786448Z",
     "shell.execute_reply.started": "2021-09-09T11:00:28.759582Z"
    }
   },
   "outputs": [],
   "source": [
    "train_data = pd.read_csv('/kaggle/input/digit-recognizer/train.csv')\n",
    "test_data = pd.read_csv('/kaggle/input/digit-recognizer/test.csv')"
   ]
  },
  {
   "cell_type": "code",
   "execution_count": 7,
   "metadata": {
    "execution": {
     "iopub.execute_input": "2021-09-09T11:00:33.789265Z",
     "iopub.status.busy": "2021-09-09T11:00:33.788879Z",
     "iopub.status.idle": "2021-09-09T11:00:33.820627Z",
     "shell.execute_reply": "2021-09-09T11:00:33.819809Z",
     "shell.execute_reply.started": "2021-09-09T11:00:33.789227Z"
    }
   },
   "outputs": [
    {
     "data": {
      "text/html": [
       "<div>\n",
       "<style scoped>\n",
       "    .dataframe tbody tr th:only-of-type {\n",
       "        vertical-align: middle;\n",
       "    }\n",
       "\n",
       "    .dataframe tbody tr th {\n",
       "        vertical-align: top;\n",
       "    }\n",
       "\n",
       "    .dataframe thead th {\n",
       "        text-align: right;\n",
       "    }\n",
       "</style>\n",
       "<table border=\"1\" class=\"dataframe\">\n",
       "  <thead>\n",
       "    <tr style=\"text-align: right;\">\n",
       "      <th></th>\n",
       "      <th>label</th>\n",
       "      <th>pixel0</th>\n",
       "      <th>pixel1</th>\n",
       "      <th>pixel2</th>\n",
       "      <th>pixel3</th>\n",
       "      <th>pixel4</th>\n",
       "      <th>pixel5</th>\n",
       "      <th>pixel6</th>\n",
       "      <th>pixel7</th>\n",
       "      <th>pixel8</th>\n",
       "      <th>...</th>\n",
       "      <th>pixel774</th>\n",
       "      <th>pixel775</th>\n",
       "      <th>pixel776</th>\n",
       "      <th>pixel777</th>\n",
       "      <th>pixel778</th>\n",
       "      <th>pixel779</th>\n",
       "      <th>pixel780</th>\n",
       "      <th>pixel781</th>\n",
       "      <th>pixel782</th>\n",
       "      <th>pixel783</th>\n",
       "    </tr>\n",
       "  </thead>\n",
       "  <tbody>\n",
       "    <tr>\n",
       "      <th>0</th>\n",
       "      <td>1</td>\n",
       "      <td>0</td>\n",
       "      <td>0</td>\n",
       "      <td>0</td>\n",
       "      <td>0</td>\n",
       "      <td>0</td>\n",
       "      <td>0</td>\n",
       "      <td>0</td>\n",
       "      <td>0</td>\n",
       "      <td>0</td>\n",
       "      <td>...</td>\n",
       "      <td>0</td>\n",
       "      <td>0</td>\n",
       "      <td>0</td>\n",
       "      <td>0</td>\n",
       "      <td>0</td>\n",
       "      <td>0</td>\n",
       "      <td>0</td>\n",
       "      <td>0</td>\n",
       "      <td>0</td>\n",
       "      <td>0</td>\n",
       "    </tr>\n",
       "    <tr>\n",
       "      <th>1</th>\n",
       "      <td>0</td>\n",
       "      <td>0</td>\n",
       "      <td>0</td>\n",
       "      <td>0</td>\n",
       "      <td>0</td>\n",
       "      <td>0</td>\n",
       "      <td>0</td>\n",
       "      <td>0</td>\n",
       "      <td>0</td>\n",
       "      <td>0</td>\n",
       "      <td>...</td>\n",
       "      <td>0</td>\n",
       "      <td>0</td>\n",
       "      <td>0</td>\n",
       "      <td>0</td>\n",
       "      <td>0</td>\n",
       "      <td>0</td>\n",
       "      <td>0</td>\n",
       "      <td>0</td>\n",
       "      <td>0</td>\n",
       "      <td>0</td>\n",
       "    </tr>\n",
       "    <tr>\n",
       "      <th>2</th>\n",
       "      <td>1</td>\n",
       "      <td>0</td>\n",
       "      <td>0</td>\n",
       "      <td>0</td>\n",
       "      <td>0</td>\n",
       "      <td>0</td>\n",
       "      <td>0</td>\n",
       "      <td>0</td>\n",
       "      <td>0</td>\n",
       "      <td>0</td>\n",
       "      <td>...</td>\n",
       "      <td>0</td>\n",
       "      <td>0</td>\n",
       "      <td>0</td>\n",
       "      <td>0</td>\n",
       "      <td>0</td>\n",
       "      <td>0</td>\n",
       "      <td>0</td>\n",
       "      <td>0</td>\n",
       "      <td>0</td>\n",
       "      <td>0</td>\n",
       "    </tr>\n",
       "    <tr>\n",
       "      <th>3</th>\n",
       "      <td>4</td>\n",
       "      <td>0</td>\n",
       "      <td>0</td>\n",
       "      <td>0</td>\n",
       "      <td>0</td>\n",
       "      <td>0</td>\n",
       "      <td>0</td>\n",
       "      <td>0</td>\n",
       "      <td>0</td>\n",
       "      <td>0</td>\n",
       "      <td>...</td>\n",
       "      <td>0</td>\n",
       "      <td>0</td>\n",
       "      <td>0</td>\n",
       "      <td>0</td>\n",
       "      <td>0</td>\n",
       "      <td>0</td>\n",
       "      <td>0</td>\n",
       "      <td>0</td>\n",
       "      <td>0</td>\n",
       "      <td>0</td>\n",
       "    </tr>\n",
       "    <tr>\n",
       "      <th>4</th>\n",
       "      <td>0</td>\n",
       "      <td>0</td>\n",
       "      <td>0</td>\n",
       "      <td>0</td>\n",
       "      <td>0</td>\n",
       "      <td>0</td>\n",
       "      <td>0</td>\n",
       "      <td>0</td>\n",
       "      <td>0</td>\n",
       "      <td>0</td>\n",
       "      <td>...</td>\n",
       "      <td>0</td>\n",
       "      <td>0</td>\n",
       "      <td>0</td>\n",
       "      <td>0</td>\n",
       "      <td>0</td>\n",
       "      <td>0</td>\n",
       "      <td>0</td>\n",
       "      <td>0</td>\n",
       "      <td>0</td>\n",
       "      <td>0</td>\n",
       "    </tr>\n",
       "  </tbody>\n",
       "</table>\n",
       "<p>5 rows × 785 columns</p>\n",
       "</div>"
      ],
      "text/plain": [
       "   label  pixel0  pixel1  pixel2  pixel3  pixel4  pixel5  pixel6  pixel7  \\\n",
       "0      1       0       0       0       0       0       0       0       0   \n",
       "1      0       0       0       0       0       0       0       0       0   \n",
       "2      1       0       0       0       0       0       0       0       0   \n",
       "3      4       0       0       0       0       0       0       0       0   \n",
       "4      0       0       0       0       0       0       0       0       0   \n",
       "\n",
       "   pixel8  ...  pixel774  pixel775  pixel776  pixel777  pixel778  pixel779  \\\n",
       "0       0  ...         0         0         0         0         0         0   \n",
       "1       0  ...         0         0         0         0         0         0   \n",
       "2       0  ...         0         0         0         0         0         0   \n",
       "3       0  ...         0         0         0         0         0         0   \n",
       "4       0  ...         0         0         0         0         0         0   \n",
       "\n",
       "   pixel780  pixel781  pixel782  pixel783  \n",
       "0         0         0         0         0  \n",
       "1         0         0         0         0  \n",
       "2         0         0         0         0  \n",
       "3         0         0         0         0  \n",
       "4         0         0         0         0  \n",
       "\n",
       "[5 rows x 785 columns]"
      ]
     },
     "execution_count": 7,
     "metadata": {},
     "output_type": "execute_result"
    }
   ],
   "source": [
    "train_data.head()"
   ]
  },
  {
   "cell_type": "code",
   "execution_count": 8,
   "metadata": {
    "execution": {
     "iopub.execute_input": "2021-09-09T11:00:33.822678Z",
     "iopub.status.busy": "2021-09-09T11:00:33.822336Z",
     "iopub.status.idle": "2021-09-09T11:00:33.839555Z",
     "shell.execute_reply": "2021-09-09T11:00:33.838502Z",
     "shell.execute_reply.started": "2021-09-09T11:00:33.822642Z"
    }
   },
   "outputs": [
    {
     "data": {
      "text/html": [
       "<div>\n",
       "<style scoped>\n",
       "    .dataframe tbody tr th:only-of-type {\n",
       "        vertical-align: middle;\n",
       "    }\n",
       "\n",
       "    .dataframe tbody tr th {\n",
       "        vertical-align: top;\n",
       "    }\n",
       "\n",
       "    .dataframe thead th {\n",
       "        text-align: right;\n",
       "    }\n",
       "</style>\n",
       "<table border=\"1\" class=\"dataframe\">\n",
       "  <thead>\n",
       "    <tr style=\"text-align: right;\">\n",
       "      <th></th>\n",
       "      <th>pixel0</th>\n",
       "      <th>pixel1</th>\n",
       "      <th>pixel2</th>\n",
       "      <th>pixel3</th>\n",
       "      <th>pixel4</th>\n",
       "      <th>pixel5</th>\n",
       "      <th>pixel6</th>\n",
       "      <th>pixel7</th>\n",
       "      <th>pixel8</th>\n",
       "      <th>pixel9</th>\n",
       "      <th>...</th>\n",
       "      <th>pixel774</th>\n",
       "      <th>pixel775</th>\n",
       "      <th>pixel776</th>\n",
       "      <th>pixel777</th>\n",
       "      <th>pixel778</th>\n",
       "      <th>pixel779</th>\n",
       "      <th>pixel780</th>\n",
       "      <th>pixel781</th>\n",
       "      <th>pixel782</th>\n",
       "      <th>pixel783</th>\n",
       "    </tr>\n",
       "  </thead>\n",
       "  <tbody>\n",
       "    <tr>\n",
       "      <th>0</th>\n",
       "      <td>0</td>\n",
       "      <td>0</td>\n",
       "      <td>0</td>\n",
       "      <td>0</td>\n",
       "      <td>0</td>\n",
       "      <td>0</td>\n",
       "      <td>0</td>\n",
       "      <td>0</td>\n",
       "      <td>0</td>\n",
       "      <td>0</td>\n",
       "      <td>...</td>\n",
       "      <td>0</td>\n",
       "      <td>0</td>\n",
       "      <td>0</td>\n",
       "      <td>0</td>\n",
       "      <td>0</td>\n",
       "      <td>0</td>\n",
       "      <td>0</td>\n",
       "      <td>0</td>\n",
       "      <td>0</td>\n",
       "      <td>0</td>\n",
       "    </tr>\n",
       "    <tr>\n",
       "      <th>1</th>\n",
       "      <td>0</td>\n",
       "      <td>0</td>\n",
       "      <td>0</td>\n",
       "      <td>0</td>\n",
       "      <td>0</td>\n",
       "      <td>0</td>\n",
       "      <td>0</td>\n",
       "      <td>0</td>\n",
       "      <td>0</td>\n",
       "      <td>0</td>\n",
       "      <td>...</td>\n",
       "      <td>0</td>\n",
       "      <td>0</td>\n",
       "      <td>0</td>\n",
       "      <td>0</td>\n",
       "      <td>0</td>\n",
       "      <td>0</td>\n",
       "      <td>0</td>\n",
       "      <td>0</td>\n",
       "      <td>0</td>\n",
       "      <td>0</td>\n",
       "    </tr>\n",
       "    <tr>\n",
       "      <th>2</th>\n",
       "      <td>0</td>\n",
       "      <td>0</td>\n",
       "      <td>0</td>\n",
       "      <td>0</td>\n",
       "      <td>0</td>\n",
       "      <td>0</td>\n",
       "      <td>0</td>\n",
       "      <td>0</td>\n",
       "      <td>0</td>\n",
       "      <td>0</td>\n",
       "      <td>...</td>\n",
       "      <td>0</td>\n",
       "      <td>0</td>\n",
       "      <td>0</td>\n",
       "      <td>0</td>\n",
       "      <td>0</td>\n",
       "      <td>0</td>\n",
       "      <td>0</td>\n",
       "      <td>0</td>\n",
       "      <td>0</td>\n",
       "      <td>0</td>\n",
       "    </tr>\n",
       "    <tr>\n",
       "      <th>3</th>\n",
       "      <td>0</td>\n",
       "      <td>0</td>\n",
       "      <td>0</td>\n",
       "      <td>0</td>\n",
       "      <td>0</td>\n",
       "      <td>0</td>\n",
       "      <td>0</td>\n",
       "      <td>0</td>\n",
       "      <td>0</td>\n",
       "      <td>0</td>\n",
       "      <td>...</td>\n",
       "      <td>0</td>\n",
       "      <td>0</td>\n",
       "      <td>0</td>\n",
       "      <td>0</td>\n",
       "      <td>0</td>\n",
       "      <td>0</td>\n",
       "      <td>0</td>\n",
       "      <td>0</td>\n",
       "      <td>0</td>\n",
       "      <td>0</td>\n",
       "    </tr>\n",
       "    <tr>\n",
       "      <th>4</th>\n",
       "      <td>0</td>\n",
       "      <td>0</td>\n",
       "      <td>0</td>\n",
       "      <td>0</td>\n",
       "      <td>0</td>\n",
       "      <td>0</td>\n",
       "      <td>0</td>\n",
       "      <td>0</td>\n",
       "      <td>0</td>\n",
       "      <td>0</td>\n",
       "      <td>...</td>\n",
       "      <td>0</td>\n",
       "      <td>0</td>\n",
       "      <td>0</td>\n",
       "      <td>0</td>\n",
       "      <td>0</td>\n",
       "      <td>0</td>\n",
       "      <td>0</td>\n",
       "      <td>0</td>\n",
       "      <td>0</td>\n",
       "      <td>0</td>\n",
       "    </tr>\n",
       "  </tbody>\n",
       "</table>\n",
       "<p>5 rows × 784 columns</p>\n",
       "</div>"
      ],
      "text/plain": [
       "   pixel0  pixel1  pixel2  pixel3  pixel4  pixel5  pixel6  pixel7  pixel8  \\\n",
       "0       0       0       0       0       0       0       0       0       0   \n",
       "1       0       0       0       0       0       0       0       0       0   \n",
       "2       0       0       0       0       0       0       0       0       0   \n",
       "3       0       0       0       0       0       0       0       0       0   \n",
       "4       0       0       0       0       0       0       0       0       0   \n",
       "\n",
       "   pixel9  ...  pixel774  pixel775  pixel776  pixel777  pixel778  pixel779  \\\n",
       "0       0  ...         0         0         0         0         0         0   \n",
       "1       0  ...         0         0         0         0         0         0   \n",
       "2       0  ...         0         0         0         0         0         0   \n",
       "3       0  ...         0         0         0         0         0         0   \n",
       "4       0  ...         0         0         0         0         0         0   \n",
       "\n",
       "   pixel780  pixel781  pixel782  pixel783  \n",
       "0         0         0         0         0  \n",
       "1         0         0         0         0  \n",
       "2         0         0         0         0  \n",
       "3         0         0         0         0  \n",
       "4         0         0         0         0  \n",
       "\n",
       "[5 rows x 784 columns]"
      ]
     },
     "execution_count": 8,
     "metadata": {},
     "output_type": "execute_result"
    }
   ],
   "source": [
    "test_data.head()"
   ]
  },
  {
   "cell_type": "code",
   "execution_count": 9,
   "metadata": {
    "execution": {
     "iopub.execute_input": "2021-09-09T11:00:33.842005Z",
     "iopub.status.busy": "2021-09-09T11:00:33.841588Z",
     "iopub.status.idle": "2021-09-09T11:00:33.937368Z",
     "shell.execute_reply": "2021-09-09T11:00:33.936332Z",
     "shell.execute_reply.started": "2021-09-09T11:00:33.841967Z"
    }
   },
   "outputs": [
    {
     "name": "stdout",
     "output_type": "stream",
     "text": [
      "0        1\n",
      "1        0\n",
      "2        1\n",
      "3        4\n",
      "4        0\n",
      "        ..\n",
      "41995    0\n",
      "41996    1\n",
      "41997    7\n",
      "41998    6\n",
      "41999    9\n",
      "Name: label, Length: 42000, dtype: int64\n",
      "       pixel0  pixel1  pixel2  pixel3  pixel4  pixel5  pixel6  pixel7  pixel8  \\\n",
      "0           0       0       0       0       0       0       0       0       0   \n",
      "1           0       0       0       0       0       0       0       0       0   \n",
      "2           0       0       0       0       0       0       0       0       0   \n",
      "3           0       0       0       0       0       0       0       0       0   \n",
      "4           0       0       0       0       0       0       0       0       0   \n",
      "...       ...     ...     ...     ...     ...     ...     ...     ...     ...   \n",
      "41995       0       0       0       0       0       0       0       0       0   \n",
      "41996       0       0       0       0       0       0       0       0       0   \n",
      "41997       0       0       0       0       0       0       0       0       0   \n",
      "41998       0       0       0       0       0       0       0       0       0   \n",
      "41999       0       0       0       0       0       0       0       0       0   \n",
      "\n",
      "       pixel9  ...  pixel774  pixel775  pixel776  pixel777  pixel778  \\\n",
      "0           0  ...         0         0         0         0         0   \n",
      "1           0  ...         0         0         0         0         0   \n",
      "2           0  ...         0         0         0         0         0   \n",
      "3           0  ...         0         0         0         0         0   \n",
      "4           0  ...         0         0         0         0         0   \n",
      "...       ...  ...       ...       ...       ...       ...       ...   \n",
      "41995       0  ...         0         0         0         0         0   \n",
      "41996       0  ...         0         0         0         0         0   \n",
      "41997       0  ...         0         0         0         0         0   \n",
      "41998       0  ...         0         0         0         0         0   \n",
      "41999       0  ...         0         0         0         0         0   \n",
      "\n",
      "       pixel779  pixel780  pixel781  pixel782  pixel783  \n",
      "0             0         0         0         0         0  \n",
      "1             0         0         0         0         0  \n",
      "2             0         0         0         0         0  \n",
      "3             0         0         0         0         0  \n",
      "4             0         0         0         0         0  \n",
      "...         ...       ...       ...       ...       ...  \n",
      "41995         0         0         0         0         0  \n",
      "41996         0         0         0         0         0  \n",
      "41997         0         0         0         0         0  \n",
      "41998         0         0         0         0         0  \n",
      "41999         0         0         0         0         0  \n",
      "\n",
      "[42000 rows x 784 columns]\n"
     ]
    }
   ],
   "source": [
    "Y_train = train_data['label']\n",
    "X_train = train_data.drop(['label'], axis=1)\n",
    "print(Y_train)\n",
    "print(X_train)"
   ]
  },
  {
   "cell_type": "code",
   "execution_count": 10,
   "metadata": {
    "execution": {
     "iopub.execute_input": "2021-09-09T11:00:33.939310Z",
     "iopub.status.busy": "2021-09-09T11:00:33.938931Z",
     "iopub.status.idle": "2021-09-09T11:00:33.975337Z",
     "shell.execute_reply": "2021-09-09T11:00:33.974573Z",
     "shell.execute_reply.started": "2021-09-09T11:00:33.939272Z"
    }
   },
   "outputs": [
    {
     "data": {
      "text/plain": [
       "count       784\n",
       "unique        1\n",
       "top       False\n",
       "freq        784\n",
       "dtype: object"
      ]
     },
     "execution_count": 10,
     "metadata": {},
     "output_type": "execute_result"
    }
   ],
   "source": [
    "X_train.isnull().any().describe()"
   ]
  },
  {
   "cell_type": "markdown",
   "metadata": {},
   "source": [
    "## Data Preprocessing"
   ]
  },
  {
   "cell_type": "code",
   "execution_count": 11,
   "metadata": {
    "execution": {
     "iopub.execute_input": "2021-09-09T11:00:33.976937Z",
     "iopub.status.busy": "2021-09-09T11:00:33.976602Z",
     "iopub.status.idle": "2021-09-09T11:00:34.186523Z",
     "shell.execute_reply": "2021-09-09T11:00:34.185600Z",
     "shell.execute_reply.started": "2021-09-09T11:00:33.976901Z"
    }
   },
   "outputs": [
    {
     "name": "stdout",
     "output_type": "stream",
     "text": [
      "pixel0      0.000000\n",
      "pixel1      0.000000\n",
      "pixel2      0.000000\n",
      "pixel3      0.000000\n",
      "pixel4      0.000000\n",
      "              ...   \n",
      "pixel779    0.243137\n",
      "pixel780    0.000000\n",
      "pixel781    0.000000\n",
      "pixel782    0.000000\n",
      "pixel783    0.000000\n",
      "Length: 784, dtype: float64\n"
     ]
    }
   ],
   "source": [
    "X_train = X_train / 255.0\n",
    "test_data = test_data / 255.0\n",
    "\n",
    "print(X_train.max())"
   ]
  },
  {
   "cell_type": "code",
   "execution_count": 12,
   "metadata": {
    "execution": {
     "iopub.execute_input": "2021-09-09T11:00:34.190335Z",
     "iopub.status.busy": "2021-09-09T11:00:34.190051Z",
     "iopub.status.idle": "2021-09-09T11:00:34.280964Z",
     "shell.execute_reply": "2021-09-09T11:00:34.279947Z",
     "shell.execute_reply.started": "2021-09-09T11:00:34.190307Z"
    }
   },
   "outputs": [
    {
     "name": "stdout",
     "output_type": "stream",
     "text": [
      "pixel0      0.0\n",
      "pixel1      0.0\n",
      "pixel2      0.0\n",
      "pixel3      0.0\n",
      "pixel4      0.0\n",
      "           ... \n",
      "pixel779    0.0\n",
      "pixel780    0.0\n",
      "pixel781    0.0\n",
      "pixel782    0.0\n",
      "pixel783    0.0\n",
      "Length: 784, dtype: float64\n",
      "pixel0      0.0\n",
      "pixel1      0.0\n",
      "pixel2      0.0\n",
      "pixel3      0.0\n",
      "pixel4      0.0\n",
      "           ... \n",
      "pixel779    0.0\n",
      "pixel780    0.0\n",
      "pixel781    0.0\n",
      "pixel782    0.0\n",
      "pixel783    0.0\n",
      "Length: 784, dtype: float64\n"
     ]
    }
   ],
   "source": [
    "print(test_data.max())\n",
    "print(test_data.min())"
   ]
  },
  {
   "cell_type": "markdown",
   "metadata": {
    "execution": {
     "iopub.execute_input": "2021-09-08T01:20:47.111292Z",
     "iopub.status.busy": "2021-09-08T01:20:47.11069Z",
     "iopub.status.idle": "2021-09-08T01:20:47.118352Z",
     "shell.execute_reply": "2021-09-08T01:20:47.116616Z",
     "shell.execute_reply.started": "2021-09-08T01:20:47.111241Z"
    }
   },
   "source": [
    "convert dataframe into numpy array"
   ]
  },
  {
   "cell_type": "code",
   "execution_count": 13,
   "metadata": {
    "execution": {
     "iopub.execute_input": "2021-09-09T11:00:34.283684Z",
     "iopub.status.busy": "2021-09-09T11:00:34.283324Z",
     "iopub.status.idle": "2021-09-09T11:00:34.288123Z",
     "shell.execute_reply": "2021-09-09T11:00:34.286963Z",
     "shell.execute_reply.started": "2021-09-09T11:00:34.283646Z"
    }
   },
   "outputs": [],
   "source": [
    "X_train = X_train.values\n",
    "Y_train = Y_train.values\n",
    "test_data = test_data.values"
   ]
  },
  {
   "cell_type": "code",
   "execution_count": 14,
   "metadata": {
    "execution": {
     "iopub.execute_input": "2021-09-09T11:00:34.290673Z",
     "iopub.status.busy": "2021-09-09T11:00:34.290195Z",
     "iopub.status.idle": "2021-09-09T11:00:34.299108Z",
     "shell.execute_reply": "2021-09-09T11:00:34.298084Z",
     "shell.execute_reply.started": "2021-09-09T11:00:34.290620Z"
    }
   },
   "outputs": [
    {
     "name": "stdout",
     "output_type": "stream",
     "text": [
      "(42000, 1, 28, 28)\n",
      "(28000, 1, 28, 28)\n"
     ]
    }
   ],
   "source": [
    "X_train = X_train.reshape(-1,1,28,28)\n",
    "test_data = test_data.reshape(-1,1,28,28)\n",
    "\n",
    "print(X_train.shape)\n",
    "print(test_data.shape)"
   ]
  },
  {
   "cell_type": "code",
   "execution_count": 15,
   "metadata": {
    "execution": {
     "iopub.execute_input": "2021-09-09T11:00:34.301555Z",
     "iopub.status.busy": "2021-09-09T11:00:34.300688Z",
     "iopub.status.idle": "2021-09-09T11:00:34.311243Z",
     "shell.execute_reply": "2021-09-09T11:00:34.310314Z",
     "shell.execute_reply.started": "2021-09-09T11:00:34.301516Z"
    }
   },
   "outputs": [],
   "source": [
    "class MNIST_dataset(Dataset):\n",
    "    def __init__(self, x, y):\n",
    "        self.x = x\n",
    "        self.y = y\n",
    "        \n",
    "    def __len__(self):\n",
    "        return len(self.x)\n",
    "    def __getitem__(self,idx):\n",
    "        x = torch.tensor(self.x[idx])\n",
    "        y = torch.tensor(self.y[idx])\n",
    "        return x, y\n",
    "    \n",
    "class MNIST_test_dataset(Dataset):\n",
    "    def __init__(self, x):\n",
    "        self.x = x\n",
    "    def __len__(self):\n",
    "        return len(self.x)\n",
    "    def __getitem__(self,idx):\n",
    "        x = torch.tensor(self.x[idx])\n",
    "        return x\n",
    "        "
   ]
  },
  {
   "cell_type": "code",
   "execution_count": 16,
   "metadata": {
    "execution": {
     "iopub.execute_input": "2021-09-09T11:00:34.313898Z",
     "iopub.status.busy": "2021-09-09T11:00:34.313039Z",
     "iopub.status.idle": "2021-09-09T11:00:34.727043Z",
     "shell.execute_reply": "2021-09-09T11:00:34.726187Z",
     "shell.execute_reply.started": "2021-09-09T11:00:34.313859Z"
    }
   },
   "outputs": [],
   "source": [
    "x_train, x_valid, y_train, y_valid = train_test_split(X_train, Y_train, test_size = 0.2, shuffle = True, stratify = Y_train, random_state=777)\n",
    "\n",
    "train_dataset = MNIST_dataset(x_train, y_train)\n",
    "valid_dataset = MNIST_dataset(x_valid, y_valid)\n",
    "test_dataset  = MNIST_test_dataset(test_data)\n",
    "\n",
    "train_dataloader = DataLoader(dataset = train_dataset, batch_size = 64, shuffle=True)\n",
    "valid_dataloader  = DataLoader(dataset = valid_dataset, batch_size = 64, shuffle=True)\n",
    "test_dataloader  = DataLoader(dataset = test_dataset,  batch_size = 64)"
   ]
  },
  {
   "cell_type": "markdown",
   "metadata": {
    "execution": {
     "iopub.execute_input": "2021-09-07T08:58:11.293974Z",
     "iopub.status.busy": "2021-09-07T08:58:11.293237Z",
     "iopub.status.idle": "2021-09-07T08:58:11.299051Z",
     "shell.execute_reply": "2021-09-07T08:58:11.297912Z",
     "shell.execute_reply.started": "2021-09-07T08:58:11.293912Z"
    }
   },
   "source": [
    "## Model"
   ]
  },
  {
   "cell_type": "code",
   "execution_count": 17,
   "metadata": {
    "execution": {
     "iopub.execute_input": "2021-09-09T11:00:35.667327Z",
     "iopub.status.busy": "2021-09-09T11:00:35.666597Z",
     "iopub.status.idle": "2021-09-09T11:00:35.688761Z",
     "shell.execute_reply": "2021-09-09T11:00:35.687691Z",
     "shell.execute_reply.started": "2021-09-09T11:00:35.667281Z"
    }
   },
   "outputs": [],
   "source": [
    "class CNN(nn.Module):\n",
    "    def __init__(self):\n",
    "        super().__init__()\n",
    "        self.conv1 = nn.Conv2d(in_channels=1,  out_channels=16, kernel_size=3, stride=1)\n",
    "        self.conv2 = nn.Conv2d(in_channels=16, out_channels=32, kernel_size=3, stride=1)\n",
    "        self.conv3 = nn.Conv2d(in_channels=32, out_channels=64, kernel_size=3, stride=1)\n",
    "        self.conv4 = nn.Conv2d(in_channels=64, out_channels=128, kernel_size=3, stride=1)\n",
    "        \n",
    "        self.fc1 = nn.Linear(128*8*8,1024)\n",
    "        self.fc2 = nn.Linear(1024,512)\n",
    "        self.fc3 = nn.Linear(512,10)\n",
    "        \n",
    "        self.batchnorm1 = nn.BatchNorm2d(16)\n",
    "        self.batchnorm2 = nn.BatchNorm2d(32)\n",
    "        self.batchnorm3 = nn.BatchNorm2d(64)\n",
    "        self.batchnorm4 = nn.BatchNorm2d(128)\n",
    "        self.drop = nn.Dropout2d(p=0.5)\n",
    "        self.max_pool = nn.MaxPool2d(kernel_size=2, stride=2)\n",
    "        self.relu = nn.ReLU()\n",
    "        \n",
    "        #initilization\n",
    "        nn.init.kaiming_normal_(self.conv1.weight, mode='fan_in', nonlinearity='relu')\n",
    "        nn.init.kaiming_normal_(self.conv2.weight, mode='fan_in', nonlinearity='relu')\n",
    "        nn.init.kaiming_normal_(self.conv3.weight, mode='fan_in', nonlinearity='relu')\n",
    "        nn.init.kaiming_normal_(self.conv4.weight, mode='fan_in', nonlinearity='relu')\n",
    "        nn.init.kaiming_normal_(self.fc1.weight, mode='fan_in', nonlinearity='relu')\n",
    "        nn.init.kaiming_normal_(self.fc2.weight, mode='fan_in', nonlinearity='relu')\n",
    "        nn.init.kaiming_normal_(self.fc3.weight, mode='fan_in', nonlinearity='relu')\n",
    "\n",
    "        \n",
    "    def forward(self,x):\n",
    "        #x shape: 64*1*28*28\n",
    "        out = self.conv1(x)\n",
    "        out = self.batchnorm1(out)\n",
    "        out = self.relu(out)\n",
    "        #64*16*26*26\n",
    "        \n",
    "        out = self.conv2(out)\n",
    "        out = self.batchnorm2(out) \n",
    "        out = self.relu(out)\n",
    "        #64*32*24*24\n",
    "        \n",
    "        out = self.max_pool(out)\n",
    "        #64*32*12*12\n",
    "        \n",
    "        out = self.conv3(out)\n",
    "        out = self.batchnorm3(out) \n",
    "        out = self.relu(out)\n",
    "        #64*64*10*10\n",
    "        \n",
    "        out = self.conv4(out)\n",
    "        out = self.batchnorm4(out) \n",
    "        out = self.relu(out)\n",
    "        #64*128*8*8\n",
    "        #flatten\n",
    "        out = out.view(out.size(0),-1)\n",
    "        #64*128*8*8\n",
    "        \n",
    "        out = self.fc1(out)\n",
    "        out = self.relu(out)\n",
    "        out = self.drop(out)\n",
    "        \n",
    "        out = self.fc2(out)\n",
    "        out = self.relu(out)\n",
    "        out = self.drop(out)\n",
    "        \n",
    "        out = self.fc3(out)\n",
    "        \n",
    "        return out\n",
    "        "
   ]
  },
  {
   "cell_type": "code",
   "execution_count": 18,
   "metadata": {
    "execution": {
     "iopub.execute_input": "2021-09-09T11:00:37.275144Z",
     "iopub.status.busy": "2021-09-09T11:00:37.274808Z",
     "iopub.status.idle": "2021-09-09T11:00:41.593232Z",
     "shell.execute_reply": "2021-09-09T11:00:41.592371Z",
     "shell.execute_reply.started": "2021-09-09T11:00:37.275110Z"
    }
   },
   "outputs": [],
   "source": [
    "model = CNN().to(device)"
   ]
  },
  {
   "cell_type": "code",
   "execution_count": 19,
   "metadata": {
    "execution": {
     "iopub.execute_input": "2021-09-09T11:00:41.597643Z",
     "iopub.status.busy": "2021-09-09T11:00:41.597363Z",
     "iopub.status.idle": "2021-09-09T11:00:41.605820Z",
     "shell.execute_reply": "2021-09-09T11:00:41.604825Z",
     "shell.execute_reply.started": "2021-09-09T11:00:41.597610Z"
    }
   },
   "outputs": [],
   "source": [
    "optimizer = optim.Adam(model.parameters(),lr=1e-3,betas=(0.9,0.999))\n",
    "criterion = nn.CrossEntropyLoss()"
   ]
  },
  {
   "cell_type": "code",
   "execution_count": 20,
   "metadata": {
    "execution": {
     "iopub.execute_input": "2021-09-09T11:00:41.608692Z",
     "iopub.status.busy": "2021-09-09T11:00:41.607927Z",
     "iopub.status.idle": "2021-09-09T11:04:02.633879Z",
     "shell.execute_reply": "2021-09-09T11:04:02.632862Z",
     "shell.execute_reply.started": "2021-09-09T11:00:41.608650Z"
    }
   },
   "outputs": [
    {
     "name": "stdout",
     "output_type": "stream",
     "text": [
      "Epoch:1/500 AVG Training Loss: 0.3728 AVG Test Loss: 0.111 AVG Training ACC: 90.670% AVG Test ACC: 97.036%\n",
      "Validation loss decreased (inf --> 0.110778).  Saving model ...\n",
      "Epoch:2/500 AVG Training Loss: 0.1197 AVG Test Loss: 0.052 AVG Training ACC: 96.890% AVG Test ACC: 98.524%\n",
      "Validation loss decreased (0.110778 --> 0.051974).  Saving model ...\n",
      "Epoch:3/500 AVG Training Loss: 0.0818 AVG Test Loss: 0.037 AVG Training ACC: 97.833% AVG Test ACC: 98.952%\n",
      "Validation loss decreased (0.051974 --> 0.036945).  Saving model ...\n",
      "Epoch:4/500 AVG Training Loss: 0.0710 AVG Test Loss: 0.044 AVG Training ACC: 98.173% AVG Test ACC: 98.726%\n",
      "EarlyStopping counter: 1 out of 20\n",
      "Epoch:5/500 AVG Training Loss: 0.0541 AVG Test Loss: 0.041 AVG Training ACC: 98.536% AVG Test ACC: 98.881%\n",
      "EarlyStopping counter: 2 out of 20\n",
      "Epoch:6/500 AVG Training Loss: 0.0489 AVG Test Loss: 0.044 AVG Training ACC: 98.732% AVG Test ACC: 98.869%\n",
      "EarlyStopping counter: 3 out of 20\n",
      "Epoch:7/500 AVG Training Loss: 0.0489 AVG Test Loss: 0.038 AVG Training ACC: 98.741% AVG Test ACC: 99.071%\n",
      "EarlyStopping counter: 4 out of 20\n",
      "Epoch:8/500 AVG Training Loss: 0.0397 AVG Test Loss: 0.040 AVG Training ACC: 98.911% AVG Test ACC: 98.774%\n",
      "EarlyStopping counter: 5 out of 20\n",
      "Epoch:9/500 AVG Training Loss: 0.0395 AVG Test Loss: 0.033 AVG Training ACC: 98.961% AVG Test ACC: 99.048%\n",
      "Validation loss decreased (0.036945 --> 0.033106).  Saving model ...\n",
      "Epoch:10/500 AVG Training Loss: 0.0279 AVG Test Loss: 0.040 AVG Training ACC: 99.238% AVG Test ACC: 99.167%\n",
      "EarlyStopping counter: 1 out of 20\n",
      "Epoch:11/500 AVG Training Loss: 0.0284 AVG Test Loss: 0.033 AVG Training ACC: 99.232% AVG Test ACC: 99.143%\n",
      "Validation loss decreased (0.033106 --> 0.033089).  Saving model ...\n",
      "Epoch:12/500 AVG Training Loss: 0.0240 AVG Test Loss: 0.036 AVG Training ACC: 99.369% AVG Test ACC: 99.238%\n",
      "EarlyStopping counter: 1 out of 20\n",
      "Epoch:13/500 AVG Training Loss: 0.0256 AVG Test Loss: 0.033 AVG Training ACC: 99.307% AVG Test ACC: 99.167%\n",
      "EarlyStopping counter: 2 out of 20\n",
      "Epoch:14/500 AVG Training Loss: 0.0275 AVG Test Loss: 0.049 AVG Training ACC: 99.312% AVG Test ACC: 99.000%\n",
      "EarlyStopping counter: 3 out of 20\n",
      "Epoch:15/500 AVG Training Loss: 0.0241 AVG Test Loss: 0.033 AVG Training ACC: 99.372% AVG Test ACC: 99.214%\n",
      "Validation loss decreased (0.033089 --> 0.032545).  Saving model ...\n",
      "Epoch:16/500 AVG Training Loss: 0.0143 AVG Test Loss: 0.038 AVG Training ACC: 99.637% AVG Test ACC: 99.262%\n",
      "EarlyStopping counter: 1 out of 20\n",
      "Epoch:17/500 AVG Training Loss: 0.0185 AVG Test Loss: 0.043 AVG Training ACC: 99.512% AVG Test ACC: 99.083%\n",
      "EarlyStopping counter: 2 out of 20\n",
      "Epoch:18/500 AVG Training Loss: 0.0171 AVG Test Loss: 0.046 AVG Training ACC: 99.577% AVG Test ACC: 98.964%\n",
      "EarlyStopping counter: 3 out of 20\n",
      "Epoch:19/500 AVG Training Loss: 0.0149 AVG Test Loss: 0.035 AVG Training ACC: 99.661% AVG Test ACC: 99.274%\n",
      "EarlyStopping counter: 4 out of 20\n",
      "Epoch:20/500 AVG Training Loss: 0.0159 AVG Test Loss: 0.042 AVG Training ACC: 99.616% AVG Test ACC: 99.214%\n",
      "EarlyStopping counter: 5 out of 20\n",
      "Epoch:21/500 AVG Training Loss: 0.0168 AVG Test Loss: 0.043 AVG Training ACC: 99.616% AVG Test ACC: 99.214%\n",
      "EarlyStopping counter: 6 out of 20\n",
      "Epoch:22/500 AVG Training Loss: 0.0146 AVG Test Loss: 0.036 AVG Training ACC: 99.658% AVG Test ACC: 99.250%\n",
      "EarlyStopping counter: 7 out of 20\n",
      "Epoch:23/500 AVG Training Loss: 0.0136 AVG Test Loss: 0.040 AVG Training ACC: 99.685% AVG Test ACC: 99.274%\n",
      "EarlyStopping counter: 8 out of 20\n",
      "Epoch:24/500 AVG Training Loss: 0.0106 AVG Test Loss: 0.045 AVG Training ACC: 99.738% AVG Test ACC: 99.226%\n",
      "EarlyStopping counter: 9 out of 20\n",
      "Epoch:25/500 AVG Training Loss: 0.0124 AVG Test Loss: 0.044 AVG Training ACC: 99.711% AVG Test ACC: 99.190%\n",
      "EarlyStopping counter: 10 out of 20\n",
      "Epoch:26/500 AVG Training Loss: 0.0122 AVG Test Loss: 0.047 AVG Training ACC: 99.720% AVG Test ACC: 99.369%\n",
      "EarlyStopping counter: 11 out of 20\n",
      "Epoch:27/500 AVG Training Loss: 0.0144 AVG Test Loss: 0.047 AVG Training ACC: 99.670% AVG Test ACC: 99.083%\n",
      "EarlyStopping counter: 12 out of 20\n",
      "Epoch:28/500 AVG Training Loss: 0.0090 AVG Test Loss: 0.047 AVG Training ACC: 99.783% AVG Test ACC: 99.190%\n",
      "EarlyStopping counter: 13 out of 20\n",
      "Epoch:29/500 AVG Training Loss: 0.0119 AVG Test Loss: 0.052 AVG Training ACC: 99.705% AVG Test ACC: 99.214%\n",
      "EarlyStopping counter: 14 out of 20\n",
      "Epoch:30/500 AVG Training Loss: 0.0100 AVG Test Loss: 0.041 AVG Training ACC: 99.747% AVG Test ACC: 99.310%\n",
      "EarlyStopping counter: 15 out of 20\n",
      "Epoch:31/500 AVG Training Loss: 0.0106 AVG Test Loss: 0.047 AVG Training ACC: 99.729% AVG Test ACC: 99.286%\n",
      "EarlyStopping counter: 16 out of 20\n",
      "Epoch:32/500 AVG Training Loss: 0.0085 AVG Test Loss: 0.043 AVG Training ACC: 99.815% AVG Test ACC: 99.321%\n",
      "EarlyStopping counter: 17 out of 20\n",
      "Epoch:33/500 AVG Training Loss: 0.0069 AVG Test Loss: 0.038 AVG Training ACC: 99.827% AVG Test ACC: 99.298%\n",
      "EarlyStopping counter: 18 out of 20\n",
      "Epoch:34/500 AVG Training Loss: 0.0132 AVG Test Loss: 0.045 AVG Training ACC: 99.729% AVG Test ACC: 99.238%\n",
      "EarlyStopping counter: 19 out of 20\n",
      "Epoch:35/500 AVG Training Loss: 0.0113 AVG Test Loss: 0.054 AVG Training ACC: 99.780% AVG Test ACC: 99.107%\n",
      "EarlyStopping counter: 20 out of 20\n",
      "Early stopping\n"
     ]
    }
   ],
   "source": [
    "total_epochs = 500\n",
    "history = {'train_loss': [], 'valid_loss': [],'train_acc':[],'valid_acc':[]}\n",
    "early_stopping = EarlyStopping(patience=20, verbose=True)\n",
    "for epoch in range(total_epochs):\n",
    "    train_acc, train_loss, valid_acc, valid_loss = 0, 0, 0, 0\n",
    "    model.train()\n",
    "    for (images, labels) in train_dataloader:\n",
    "        images, labels = images.float().to(device), labels.to(device)\n",
    "        \n",
    "        output = model(images)\n",
    "        loss = criterion(output, labels)\n",
    "        optimizer.zero_grad()\n",
    "        loss.backward()\n",
    "        optimizer.step()\n",
    "        \n",
    "        train_loss += loss.item() * images.size(0)\n",
    "        \n",
    "        prediction = torch.argmax(output, dim=1)\n",
    "        train_acc += (prediction==labels).sum().item()\n",
    "        \n",
    "    model.eval()\n",
    "    for images, labels in valid_dataloader:\n",
    "        images, labels = images.float().to(device), labels.to(device)\n",
    "        output = model(images)\n",
    "        loss = criterion(output, labels)\n",
    "        \n",
    "        valid_loss += loss.item() * images.size(0)\n",
    "        \n",
    "        prediction = torch.argmax(output,dim=1)\n",
    "        valid_acc += (prediction==labels).sum().item()\n",
    "    \n",
    "    \n",
    "    train_loss = train_loss / len(train_dataset) \n",
    "    train_acc = train_acc / len(train_dataset) * 100\n",
    "    valid_loss = valid_loss / len(valid_dataset)\n",
    "    valid_acc = valid_acc / len(valid_dataset) * 100\n",
    "    \n",
    "    print(\"Epoch:{}/{} AVG Training Loss: {:.4f} AVG Test Loss: {:.3f} AVG Training ACC: {:.3f}% AVG Test ACC: {:.3f}%\".format(\n",
    "           epoch+1, total_epochs, train_loss, valid_loss, train_acc, valid_acc\n",
    "        ))\n",
    "    history['train_loss'].append(train_loss)\n",
    "    history['valid_loss'].append(valid_loss)\n",
    "    history['train_acc'].append(train_acc)\n",
    "    history['valid_acc'].append(valid_acc)\n",
    "    \n",
    "    early_stopping(valid_loss, model)\n",
    "    \n",
    "    if early_stopping.early_stop:\n",
    "            print(\"Early stopping\")\n",
    "            break"
   ]
  },
  {
   "cell_type": "code",
   "execution_count": 21,
   "metadata": {
    "execution": {
     "iopub.execute_input": "2021-09-09T11:04:02.635649Z",
     "iopub.status.busy": "2021-09-09T11:04:02.635373Z",
     "iopub.status.idle": "2021-09-09T11:04:02.682948Z",
     "shell.execute_reply": "2021-09-09T11:04:02.682049Z",
     "shell.execute_reply.started": "2021-09-09T11:04:02.635610Z"
    }
   },
   "outputs": [
    {
     "data": {
      "text/plain": [
       "<All keys matched successfully>"
      ]
     },
     "execution_count": 21,
     "metadata": {},
     "output_type": "execute_result"
    }
   ],
   "source": [
    "model.load_state_dict(torch.load('checkpoint.pt'))"
   ]
  },
  {
   "cell_type": "code",
   "execution_count": 22,
   "metadata": {
    "execution": {
     "iopub.execute_input": "2021-09-09T11:04:02.684653Z",
     "iopub.status.busy": "2021-09-09T11:04:02.684300Z",
     "iopub.status.idle": "2021-09-09T11:04:04.065227Z",
     "shell.execute_reply": "2021-09-09T11:04:04.064331Z",
     "shell.execute_reply.started": "2021-09-09T11:04:02.684613Z"
    }
   },
   "outputs": [
    {
     "name": "stdout",
     "output_type": "stream",
     "text": [
      "[[    1]\n",
      " [    2]\n",
      " [    3]\n",
      " ...\n",
      " [27998]\n",
      " [27999]\n",
      " [28000]]\n",
      "tensor([[2],\n",
      "        [0],\n",
      "        [9],\n",
      "        ...,\n",
      "        [3],\n",
      "        [9],\n",
      "        [2]])\n",
      "       ImageId  Label\n",
      "0            1      2\n",
      "1            2      0\n",
      "2            3      9\n",
      "3            4      9\n",
      "4            5      3\n",
      "...        ...    ...\n",
      "27995    27996      9\n",
      "27996    27997      7\n",
      "27997    27998      3\n",
      "27998    27999      9\n",
      "27999    28000      2\n",
      "\n",
      "[28000 rows x 2 columns]\n"
     ]
    }
   ],
   "source": [
    "import numpy as np\n",
    "\n",
    "model.eval()\n",
    "test_pred = torch.LongTensor()\n",
    "for data in test_dataloader:\n",
    "    data = data.float().to(device)\n",
    "    output=model(data)\n",
    "    pred = torch.argmax(output,dim=1)\n",
    "    #1-dimensional tensor->pred, test_pred\n",
    "    test_pred = torch.cat((test_pred,pred.cpu()), dim=0)\n",
    "    \n",
    "\n",
    "first_column = np.arange(1,len(test_dataset)+1)\n",
    "first_column = first_column.reshape(-1,1)\n",
    "test_pred = test_pred.reshape(-1,1)\n",
    "print(first_column)\n",
    "print(test_pred)\n",
    "test_df = pd.DataFrame(np.concatenate((first_column,test_pred.numpy()),axis=1), columns=['ImageId', 'Label'])\n",
    "print(test_df)"
   ]
  },
  {
   "cell_type": "code",
   "execution_count": 23,
   "metadata": {
    "execution": {
     "iopub.execute_input": "2021-09-09T11:04:04.067591Z",
     "iopub.status.busy": "2021-09-09T11:04:04.067072Z",
     "iopub.status.idle": "2021-09-09T11:04:04.241656Z",
     "shell.execute_reply": "2021-09-09T11:04:04.240871Z",
     "shell.execute_reply.started": "2021-09-09T11:04:04.067553Z"
    }
   },
   "outputs": [
    {
     "data": {
      "image/png": "[encoded data removed]",
      "text/plain": [
       "<Figure size 432x288 with 1 Axes>"
      ]
     },
     "metadata": {
      "needs_background": "light"
     },
     "output_type": "display_data"
    }
   ],
   "source": [
    "%matplotlib inline\n",
    "import matplotlib.pyplot as plt\n",
    "epochs = np.arange(1, len(history['train_loss'])+1)\n",
    "plt.figure()\n",
    "plt.plot(epochs, history['train_loss'], label = 'train_loss')\n",
    "plt.plot(epochs, history['valid_loss'], label = 'valid_loss')\n",
    "plt.legend(loc = \"upper left\")\n",
    "plt.xlabel(\"epoch\")\n",
    "plt.ylabel(\"loss\")\n",
    "plt.show()"
   ]
  },
  {
   "cell_type": "code",
   "execution_count": 24,
   "metadata": {
    "execution": {
     "iopub.execute_input": "2021-09-09T11:04:04.243343Z",
     "iopub.status.busy": "2021-09-09T11:04:04.242976Z",
     "iopub.status.idle": "2021-09-09T11:04:04.386633Z",
     "shell.execute_reply": "2021-09-09T11:04:04.385891Z",
     "shell.execute_reply.started": "2021-09-09T11:04:04.243304Z"
    }
   },
   "outputs": [
    {
     "data": {
      "image/png": "[encoded data removed]",
      "text/plain": [
       "<Figure size 432x288 with 1 Axes>"
      ]
     },
     "metadata": {
      "needs_background": "light"
     },
     "output_type": "display_data"
    }
   ],
   "source": [
    "epochs = np.arange(1, len(history['train_loss'])+1)\n",
    "plt.figure()\n",
    "plt.plot(epochs, history['train_acc'], label = 'train_acc')\n",
    "plt.plot(epochs, history['valid_acc'], label = 'valid_acc')\n",
    "plt.legend(loc = \"upper left\")\n",
    "plt.xlabel(\"epoch\")\n",
    "plt.ylabel(\"loss\")\n",
    "plt.show()"
   ]
  },
  {
   "cell_type": "code",
   "execution_count": 25,
   "metadata": {
    "execution": {
     "iopub.execute_input": "2021-09-09T11:04:04.388121Z",
     "iopub.status.busy": "2021-09-09T11:04:04.387772Z",
     "iopub.status.idle": "2021-09-09T11:04:04.438207Z",
     "shell.execute_reply": "2021-09-09T11:04:04.437449Z",
     "shell.execute_reply.started": "2021-09-09T11:04:04.388067Z"
    }
   },
   "outputs": [],
   "source": [
    "test_df.to_csv('submission.csv', index=False)"
   ]
  },
  {
   "cell_type": "code",
   "execution_count": 26,
   "metadata": {
    "execution": {
     "iopub.execute_input": "2021-09-09T11:04:04.439786Z",
     "iopub.status.busy": "2021-09-09T11:04:04.439435Z",
     "iopub.status.idle": "2021-09-09T11:04:04.455439Z",
     "shell.execute_reply": "2021-09-09T11:04:04.454614Z",
     "shell.execute_reply.started": "2021-09-09T11:04:04.439749Z"
    }
   },
   "outputs": [
    {
     "name": "stdout",
     "output_type": "stream",
     "text": [
      "       ImageId  Label\n",
      "0            1      2\n",
      "1            2      0\n",
      "2            3      9\n",
      "3            4      9\n",
      "4            5      3\n",
      "...        ...    ...\n",
      "27995    27996      9\n",
      "27996    27997      7\n",
      "27997    27998      3\n",
      "27998    27999      9\n",
      "27999    28000      2\n",
      "\n",
      "[28000 rows x 2 columns]\n",
      "9\n"
     ]
    }
   ],
   "source": [
    "df = pd.read_csv('./submission.csv')\n",
    "print(df)\n",
    "print(df['Label'].max())"
   ]
  }
 ],
 "metadata": {
  "kernelspec": {
   "display_name": "Python 3",
   "language": "python",
   "name": "python3"
  },
  "language_info": {
   "codemirror_mode": {
    "name": "ipython",
    "version": 3
   },
   "file_extension": ".py",
   "mimetype": "text/x-python",
   "name": "python",
   "nbconvert_exporter": "python",
   "pygments_lexer": "ipython3",
   "version": "3.8.3"
  }
 },
 "nbformat": 4,
 "nbformat_minor": 4
}

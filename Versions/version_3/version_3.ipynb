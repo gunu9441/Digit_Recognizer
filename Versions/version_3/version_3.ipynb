{
 "cells": [
  {
   "cell_type": "code",
   "execution_count": 2,
   "metadata": {
    "execution": {
     "iopub.execute_input": "2021-09-10T16:59:53.262237Z",
     "iopub.status.busy": "2021-09-10T16:59:53.261909Z",
     "iopub.status.idle": "2021-09-10T16:59:56.260066Z",
     "shell.execute_reply": "2021-09-10T16:59:56.259201Z",
     "shell.execute_reply.started": "2021-09-10T16:59:53.262206Z"
    }
   },
   "outputs": [],
   "source": [
    "import torch\n",
    "import torch.nn as nn\n",
    "import torch.optim as optim\n",
    "from torch.utils.data import DataLoader, Dataset\n",
    "import pandas as pd\n",
    "from sklearn.model_selection import train_test_split\n",
    "import numpy as np\n",
    "\n",
    "from matplotlib import pyplot as plt\n",
    "%matplotlib inline\n",
    "import albumentations as A\n",
    "import albumentations.pytorch\n",
    "import random"
   ]
  },
  {
   "cell_type": "code",
   "execution_count": 3,
   "metadata": {
    "execution": {
     "iopub.execute_input": "2021-09-10T16:59:56.261704Z",
     "iopub.status.busy": "2021-09-10T16:59:56.261394Z",
     "iopub.status.idle": "2021-09-10T16:59:56.272822Z",
     "shell.execute_reply": "2021-09-10T16:59:56.270815Z",
     "shell.execute_reply.started": "2021-09-10T16:59:56.261670Z"
    }
   },
   "outputs": [],
   "source": [
    "class EarlyStopping:\n",
    "    \"\"\"Early stops the training if validation loss doesn't improve after a given patience.\"\"\"\n",
    "    def __init__(self, patience=7, verbose=False, delta=0, path='checkpoint.pt', trace_func=print):\n",
    "        \"\"\"\n",
    "        Args:\n",
    "            patience (int): How long to wait after last time validation loss improved.\n",
    "                            Default: 7\n",
    "            verbose (bool): If True, prints a message for each validation loss improvement. \n",
    "                            Default: False\n",
    "            delta (float): Minimum change in the monitored quantity to qualify as an improvement.\n",
    "                            Default: 0\n",
    "            path (str): Path for the checkpoint to be saved to.\n",
    "                            Default: 'checkpoint.pt'\n",
    "            trace_func (function): trace print function.\n",
    "                            Default: print            \n",
    "        \"\"\"\n",
    "        self.patience = patience\n",
    "        self.verbose = verbose\n",
    "        self.counter = 0\n",
    "        self.best_score = None\n",
    "        self.early_stop = False\n",
    "        self.val_loss_min = np.Inf\n",
    "        self.delta = delta\n",
    "        self.path = path\n",
    "        self.trace_func = trace_func\n",
    "    def __call__(self, val_loss, model):\n",
    "\n",
    "        score = -val_loss\n",
    "\n",
    "        if self.best_score is None:\n",
    "            self.best_score = score\n",
    "            self.save_checkpoint(val_loss, model)\n",
    "        elif score < self.best_score + self.delta:\n",
    "            self.counter += 1\n",
    "            self.trace_func(f'EarlyStopping counter: {self.counter} out of {self.patience}')\n",
    "            if self.counter >= self.patience:\n",
    "                self.early_stop = True\n",
    "        else:\n",
    "            self.best_score = score\n",
    "            self.save_checkpoint(val_loss, model)\n",
    "            self.counter = 0\n",
    "\n",
    "    def save_checkpoint(self, val_loss, model):\n",
    "        '''Saves model when validation loss decrease.'''\n",
    "        if self.verbose:\n",
    "            self.trace_func(f'Validation loss decreased ({self.val_loss_min:.6f} --> {val_loss:.6f}).  Saving model ...')\n",
    "        torch.save(model.state_dict(), self.path)\n",
    "        self.val_loss_min = val_loss"
   ]
  },
  {
   "cell_type": "code",
   "execution_count": 4,
   "metadata": {
    "execution": {
     "iopub.execute_input": "2021-09-10T16:59:56.275321Z",
     "iopub.status.busy": "2021-09-10T16:59:56.274918Z",
     "iopub.status.idle": "2021-09-10T16:59:56.333721Z",
     "shell.execute_reply": "2021-09-10T16:59:56.332841Z",
     "shell.execute_reply.started": "2021-09-10T16:59:56.275281Z"
    }
   },
   "outputs": [
    {
     "name": "stdout",
     "output_type": "stream",
     "text": [
      "device: cuda\n"
     ]
    }
   ],
   "source": [
    "device = 'cuda' if torch.cuda.is_available() else 'cpu'\n",
    "print('device: {}'.format(device))"
   ]
  },
  {
   "cell_type": "code",
   "execution_count": 5,
   "metadata": {
    "execution": {
     "iopub.execute_input": "2021-09-10T16:59:56.336269Z",
     "iopub.status.busy": "2021-09-10T16:59:56.335499Z",
     "iopub.status.idle": "2021-09-10T16:59:56.347154Z",
     "shell.execute_reply": "2021-09-10T16:59:56.346194Z",
     "shell.execute_reply.started": "2021-09-10T16:59:56.336190Z"
    }
   },
   "outputs": [],
   "source": [
    "random.seed(777)\n",
    "torch.manual_seed(777)\n",
    "if device == 'cuda':\n",
    "    torch.cuda.manual_seed_all(777)"
   ]
  },
  {
   "cell_type": "markdown",
   "metadata": {},
   "source": [
    "## EDA"
   ]
  },
  {
   "cell_type": "code",
   "execution_count": 6,
   "metadata": {
    "execution": {
     "iopub.execute_input": "2021-09-10T16:59:58.474288Z",
     "iopub.status.busy": "2021-09-10T16:59:58.473939Z",
     "iopub.status.idle": "2021-09-10T17:00:03.644398Z",
     "shell.execute_reply": "2021-09-10T17:00:03.643568Z",
     "shell.execute_reply.started": "2021-09-10T16:59:58.474259Z"
    }
   },
   "outputs": [],
   "source": [
    "train_data = pd.read_csv('/kaggle/input/digit-recognizer/train.csv')\n",
    "test_data = pd.read_csv('/kaggle/input/digit-recognizer/test.csv')"
   ]
  },
  {
   "cell_type": "code",
   "execution_count": 7,
   "metadata": {
    "execution": {
     "iopub.execute_input": "2021-09-10T17:00:03.646178Z",
     "iopub.status.busy": "2021-09-10T17:00:03.645865Z",
     "iopub.status.idle": "2021-09-10T17:00:03.675412Z",
     "shell.execute_reply": "2021-09-10T17:00:03.674498Z",
     "shell.execute_reply.started": "2021-09-10T17:00:03.646143Z"
    }
   },
   "outputs": [
    {
     "data": {
      "text/html": [
       "<div>\n",
       "<style scoped>\n",
       "    .dataframe tbody tr th:only-of-type {\n",
       "        vertical-align: middle;\n",
       "    }\n",
       "\n",
       "    .dataframe tbody tr th {\n",
       "        vertical-align: top;\n",
       "    }\n",
       "\n",
       "    .dataframe thead th {\n",
       "        text-align: right;\n",
       "    }\n",
       "</style>\n",
       "<table border=\"1\" class=\"dataframe\">\n",
       "  <thead>\n",
       "    <tr style=\"text-align: right;\">\n",
       "      <th></th>\n",
       "      <th>label</th>\n",
       "      <th>pixel0</th>\n",
       "      <th>pixel1</th>\n",
       "      <th>pixel2</th>\n",
       "      <th>pixel3</th>\n",
       "      <th>pixel4</th>\n",
       "      <th>pixel5</th>\n",
       "      <th>pixel6</th>\n",
       "      <th>pixel7</th>\n",
       "      <th>pixel8</th>\n",
       "      <th>...</th>\n",
       "      <th>pixel774</th>\n",
       "      <th>pixel775</th>\n",
       "      <th>pixel776</th>\n",
       "      <th>pixel777</th>\n",
       "      <th>pixel778</th>\n",
       "      <th>pixel779</th>\n",
       "      <th>pixel780</th>\n",
       "      <th>pixel781</th>\n",
       "      <th>pixel782</th>\n",
       "      <th>pixel783</th>\n",
       "    </tr>\n",
       "  </thead>\n",
       "  <tbody>\n",
       "    <tr>\n",
       "      <th>0</th>\n",
       "      <td>1</td>\n",
       "      <td>0</td>\n",
       "      <td>0</td>\n",
       "      <td>0</td>\n",
       "      <td>0</td>\n",
       "      <td>0</td>\n",
       "      <td>0</td>\n",
       "      <td>0</td>\n",
       "      <td>0</td>\n",
       "      <td>0</td>\n",
       "      <td>...</td>\n",
       "      <td>0</td>\n",
       "      <td>0</td>\n",
       "      <td>0</td>\n",
       "      <td>0</td>\n",
       "      <td>0</td>\n",
       "      <td>0</td>\n",
       "      <td>0</td>\n",
       "      <td>0</td>\n",
       "      <td>0</td>\n",
       "      <td>0</td>\n",
       "    </tr>\n",
       "    <tr>\n",
       "      <th>1</th>\n",
       "      <td>0</td>\n",
       "      <td>0</td>\n",
       "      <td>0</td>\n",
       "      <td>0</td>\n",
       "      <td>0</td>\n",
       "      <td>0</td>\n",
       "      <td>0</td>\n",
       "      <td>0</td>\n",
       "      <td>0</td>\n",
       "      <td>0</td>\n",
       "      <td>...</td>\n",
       "      <td>0</td>\n",
       "      <td>0</td>\n",
       "      <td>0</td>\n",
       "      <td>0</td>\n",
       "      <td>0</td>\n",
       "      <td>0</td>\n",
       "      <td>0</td>\n",
       "      <td>0</td>\n",
       "      <td>0</td>\n",
       "      <td>0</td>\n",
       "    </tr>\n",
       "    <tr>\n",
       "      <th>2</th>\n",
       "      <td>1</td>\n",
       "      <td>0</td>\n",
       "      <td>0</td>\n",
       "      <td>0</td>\n",
       "      <td>0</td>\n",
       "      <td>0</td>\n",
       "      <td>0</td>\n",
       "      <td>0</td>\n",
       "      <td>0</td>\n",
       "      <td>0</td>\n",
       "      <td>...</td>\n",
       "      <td>0</td>\n",
       "      <td>0</td>\n",
       "      <td>0</td>\n",
       "      <td>0</td>\n",
       "      <td>0</td>\n",
       "      <td>0</td>\n",
       "      <td>0</td>\n",
       "      <td>0</td>\n",
       "      <td>0</td>\n",
       "      <td>0</td>\n",
       "    </tr>\n",
       "    <tr>\n",
       "      <th>3</th>\n",
       "      <td>4</td>\n",
       "      <td>0</td>\n",
       "      <td>0</td>\n",
       "      <td>0</td>\n",
       "      <td>0</td>\n",
       "      <td>0</td>\n",
       "      <td>0</td>\n",
       "      <td>0</td>\n",
       "      <td>0</td>\n",
       "      <td>0</td>\n",
       "      <td>...</td>\n",
       "      <td>0</td>\n",
       "      <td>0</td>\n",
       "      <td>0</td>\n",
       "      <td>0</td>\n",
       "      <td>0</td>\n",
       "      <td>0</td>\n",
       "      <td>0</td>\n",
       "      <td>0</td>\n",
       "      <td>0</td>\n",
       "      <td>0</td>\n",
       "    </tr>\n",
       "    <tr>\n",
       "      <th>4</th>\n",
       "      <td>0</td>\n",
       "      <td>0</td>\n",
       "      <td>0</td>\n",
       "      <td>0</td>\n",
       "      <td>0</td>\n",
       "      <td>0</td>\n",
       "      <td>0</td>\n",
       "      <td>0</td>\n",
       "      <td>0</td>\n",
       "      <td>0</td>\n",
       "      <td>...</td>\n",
       "      <td>0</td>\n",
       "      <td>0</td>\n",
       "      <td>0</td>\n",
       "      <td>0</td>\n",
       "      <td>0</td>\n",
       "      <td>0</td>\n",
       "      <td>0</td>\n",
       "      <td>0</td>\n",
       "      <td>0</td>\n",
       "      <td>0</td>\n",
       "    </tr>\n",
       "  </tbody>\n",
       "</table>\n",
       "<p>5 rows × 785 columns</p>\n",
       "</div>"
      ],
      "text/plain": [
       "   label  pixel0  pixel1  pixel2  pixel3  pixel4  pixel5  pixel6  pixel7  \\\n",
       "0      1       0       0       0       0       0       0       0       0   \n",
       "1      0       0       0       0       0       0       0       0       0   \n",
       "2      1       0       0       0       0       0       0       0       0   \n",
       "3      4       0       0       0       0       0       0       0       0   \n",
       "4      0       0       0       0       0       0       0       0       0   \n",
       "\n",
       "   pixel8  ...  pixel774  pixel775  pixel776  pixel777  pixel778  pixel779  \\\n",
       "0       0  ...         0         0         0         0         0         0   \n",
       "1       0  ...         0         0         0         0         0         0   \n",
       "2       0  ...         0         0         0         0         0         0   \n",
       "3       0  ...         0         0         0         0         0         0   \n",
       "4       0  ...         0         0         0         0         0         0   \n",
       "\n",
       "   pixel780  pixel781  pixel782  pixel783  \n",
       "0         0         0         0         0  \n",
       "1         0         0         0         0  \n",
       "2         0         0         0         0  \n",
       "3         0         0         0         0  \n",
       "4         0         0         0         0  \n",
       "\n",
       "[5 rows x 785 columns]"
      ]
     },
     "execution_count": 7,
     "metadata": {},
     "output_type": "execute_result"
    }
   ],
   "source": [
    "train_data.head()"
   ]
  },
  {
   "cell_type": "code",
   "execution_count": 8,
   "metadata": {
    "execution": {
     "iopub.execute_input": "2021-09-10T17:00:03.677653Z",
     "iopub.status.busy": "2021-09-10T17:00:03.677302Z",
     "iopub.status.idle": "2021-09-10T17:00:03.693629Z",
     "shell.execute_reply": "2021-09-10T17:00:03.692538Z",
     "shell.execute_reply.started": "2021-09-10T17:00:03.677616Z"
    }
   },
   "outputs": [
    {
     "data": {
      "text/html": [
       "<div>\n",
       "<style scoped>\n",
       "    .dataframe tbody tr th:only-of-type {\n",
       "        vertical-align: middle;\n",
       "    }\n",
       "\n",
       "    .dataframe tbody tr th {\n",
       "        vertical-align: top;\n",
       "    }\n",
       "\n",
       "    .dataframe thead th {\n",
       "        text-align: right;\n",
       "    }\n",
       "</style>\n",
       "<table border=\"1\" class=\"dataframe\">\n",
       "  <thead>\n",
       "    <tr style=\"text-align: right;\">\n",
       "      <th></th>\n",
       "      <th>pixel0</th>\n",
       "      <th>pixel1</th>\n",
       "      <th>pixel2</th>\n",
       "      <th>pixel3</th>\n",
       "      <th>pixel4</th>\n",
       "      <th>pixel5</th>\n",
       "      <th>pixel6</th>\n",
       "      <th>pixel7</th>\n",
       "      <th>pixel8</th>\n",
       "      <th>pixel9</th>\n",
       "      <th>...</th>\n",
       "      <th>pixel774</th>\n",
       "      <th>pixel775</th>\n",
       "      <th>pixel776</th>\n",
       "      <th>pixel777</th>\n",
       "      <th>pixel778</th>\n",
       "      <th>pixel779</th>\n",
       "      <th>pixel780</th>\n",
       "      <th>pixel781</th>\n",
       "      <th>pixel782</th>\n",
       "      <th>pixel783</th>\n",
       "    </tr>\n",
       "  </thead>\n",
       "  <tbody>\n",
       "    <tr>\n",
       "      <th>0</th>\n",
       "      <td>0</td>\n",
       "      <td>0</td>\n",
       "      <td>0</td>\n",
       "      <td>0</td>\n",
       "      <td>0</td>\n",
       "      <td>0</td>\n",
       "      <td>0</td>\n",
       "      <td>0</td>\n",
       "      <td>0</td>\n",
       "      <td>0</td>\n",
       "      <td>...</td>\n",
       "      <td>0</td>\n",
       "      <td>0</td>\n",
       "      <td>0</td>\n",
       "      <td>0</td>\n",
       "      <td>0</td>\n",
       "      <td>0</td>\n",
       "      <td>0</td>\n",
       "      <td>0</td>\n",
       "      <td>0</td>\n",
       "      <td>0</td>\n",
       "    </tr>\n",
       "    <tr>\n",
       "      <th>1</th>\n",
       "      <td>0</td>\n",
       "      <td>0</td>\n",
       "      <td>0</td>\n",
       "      <td>0</td>\n",
       "      <td>0</td>\n",
       "      <td>0</td>\n",
       "      <td>0</td>\n",
       "      <td>0</td>\n",
       "      <td>0</td>\n",
       "      <td>0</td>\n",
       "      <td>...</td>\n",
       "      <td>0</td>\n",
       "      <td>0</td>\n",
       "      <td>0</td>\n",
       "      <td>0</td>\n",
       "      <td>0</td>\n",
       "      <td>0</td>\n",
       "      <td>0</td>\n",
       "      <td>0</td>\n",
       "      <td>0</td>\n",
       "      <td>0</td>\n",
       "    </tr>\n",
       "    <tr>\n",
       "      <th>2</th>\n",
       "      <td>0</td>\n",
       "      <td>0</td>\n",
       "      <td>0</td>\n",
       "      <td>0</td>\n",
       "      <td>0</td>\n",
       "      <td>0</td>\n",
       "      <td>0</td>\n",
       "      <td>0</td>\n",
       "      <td>0</td>\n",
       "      <td>0</td>\n",
       "      <td>...</td>\n",
       "      <td>0</td>\n",
       "      <td>0</td>\n",
       "      <td>0</td>\n",
       "      <td>0</td>\n",
       "      <td>0</td>\n",
       "      <td>0</td>\n",
       "      <td>0</td>\n",
       "      <td>0</td>\n",
       "      <td>0</td>\n",
       "      <td>0</td>\n",
       "    </tr>\n",
       "    <tr>\n",
       "      <th>3</th>\n",
       "      <td>0</td>\n",
       "      <td>0</td>\n",
       "      <td>0</td>\n",
       "      <td>0</td>\n",
       "      <td>0</td>\n",
       "      <td>0</td>\n",
       "      <td>0</td>\n",
       "      <td>0</td>\n",
       "      <td>0</td>\n",
       "      <td>0</td>\n",
       "      <td>...</td>\n",
       "      <td>0</td>\n",
       "      <td>0</td>\n",
       "      <td>0</td>\n",
       "      <td>0</td>\n",
       "      <td>0</td>\n",
       "      <td>0</td>\n",
       "      <td>0</td>\n",
       "      <td>0</td>\n",
       "      <td>0</td>\n",
       "      <td>0</td>\n",
       "    </tr>\n",
       "    <tr>\n",
       "      <th>4</th>\n",
       "      <td>0</td>\n",
       "      <td>0</td>\n",
       "      <td>0</td>\n",
       "      <td>0</td>\n",
       "      <td>0</td>\n",
       "      <td>0</td>\n",
       "      <td>0</td>\n",
       "      <td>0</td>\n",
       "      <td>0</td>\n",
       "      <td>0</td>\n",
       "      <td>...</td>\n",
       "      <td>0</td>\n",
       "      <td>0</td>\n",
       "      <td>0</td>\n",
       "      <td>0</td>\n",
       "      <td>0</td>\n",
       "      <td>0</td>\n",
       "      <td>0</td>\n",
       "      <td>0</td>\n",
       "      <td>0</td>\n",
       "      <td>0</td>\n",
       "    </tr>\n",
       "  </tbody>\n",
       "</table>\n",
       "<p>5 rows × 784 columns</p>\n",
       "</div>"
      ],
      "text/plain": [
       "   pixel0  pixel1  pixel2  pixel3  pixel4  pixel5  pixel6  pixel7  pixel8  \\\n",
       "0       0       0       0       0       0       0       0       0       0   \n",
       "1       0       0       0       0       0       0       0       0       0   \n",
       "2       0       0       0       0       0       0       0       0       0   \n",
       "3       0       0       0       0       0       0       0       0       0   \n",
       "4       0       0       0       0       0       0       0       0       0   \n",
       "\n",
       "   pixel9  ...  pixel774  pixel775  pixel776  pixel777  pixel778  pixel779  \\\n",
       "0       0  ...         0         0         0         0         0         0   \n",
       "1       0  ...         0         0         0         0         0         0   \n",
       "2       0  ...         0         0         0         0         0         0   \n",
       "3       0  ...         0         0         0         0         0         0   \n",
       "4       0  ...         0         0         0         0         0         0   \n",
       "\n",
       "   pixel780  pixel781  pixel782  pixel783  \n",
       "0         0         0         0         0  \n",
       "1         0         0         0         0  \n",
       "2         0         0         0         0  \n",
       "3         0         0         0         0  \n",
       "4         0         0         0         0  \n",
       "\n",
       "[5 rows x 784 columns]"
      ]
     },
     "execution_count": 8,
     "metadata": {},
     "output_type": "execute_result"
    }
   ],
   "source": [
    "test_data.head()"
   ]
  },
  {
   "cell_type": "code",
   "execution_count": 9,
   "metadata": {
    "execution": {
     "iopub.execute_input": "2021-09-10T17:00:03.696207Z",
     "iopub.status.busy": "2021-09-10T17:00:03.695790Z",
     "iopub.status.idle": "2021-09-10T17:00:03.793243Z",
     "shell.execute_reply": "2021-09-10T17:00:03.792378Z",
     "shell.execute_reply.started": "2021-09-10T17:00:03.696169Z"
    }
   },
   "outputs": [
    {
     "name": "stdout",
     "output_type": "stream",
     "text": [
      "0        1\n",
      "1        0\n",
      "2        1\n",
      "3        4\n",
      "4        0\n",
      "        ..\n",
      "41995    0\n",
      "41996    1\n",
      "41997    7\n",
      "41998    6\n",
      "41999    9\n",
      "Name: label, Length: 42000, dtype: int64\n",
      "       pixel0  pixel1  pixel2  pixel3  pixel4  pixel5  pixel6  pixel7  pixel8  \\\n",
      "0           0       0       0       0       0       0       0       0       0   \n",
      "1           0       0       0       0       0       0       0       0       0   \n",
      "2           0       0       0       0       0       0       0       0       0   \n",
      "3           0       0       0       0       0       0       0       0       0   \n",
      "4           0       0       0       0       0       0       0       0       0   \n",
      "...       ...     ...     ...     ...     ...     ...     ...     ...     ...   \n",
      "41995       0       0       0       0       0       0       0       0       0   \n",
      "41996       0       0       0       0       0       0       0       0       0   \n",
      "41997       0       0       0       0       0       0       0       0       0   \n",
      "41998       0       0       0       0       0       0       0       0       0   \n",
      "41999       0       0       0       0       0       0       0       0       0   \n",
      "\n",
      "       pixel9  ...  pixel774  pixel775  pixel776  pixel777  pixel778  \\\n",
      "0           0  ...         0         0         0         0         0   \n",
      "1           0  ...         0         0         0         0         0   \n",
      "2           0  ...         0         0         0         0         0   \n",
      "3           0  ...         0         0         0         0         0   \n",
      "4           0  ...         0         0         0         0         0   \n",
      "...       ...  ...       ...       ...       ...       ...       ...   \n",
      "41995       0  ...         0         0         0         0         0   \n",
      "41996       0  ...         0         0         0         0         0   \n",
      "41997       0  ...         0         0         0         0         0   \n",
      "41998       0  ...         0         0         0         0         0   \n",
      "41999       0  ...         0         0         0         0         0   \n",
      "\n",
      "       pixel779  pixel780  pixel781  pixel782  pixel783  \n",
      "0             0         0         0         0         0  \n",
      "1             0         0         0         0         0  \n",
      "2             0         0         0         0         0  \n",
      "3             0         0         0         0         0  \n",
      "4             0         0         0         0         0  \n",
      "...         ...       ...       ...       ...       ...  \n",
      "41995         0         0         0         0         0  \n",
      "41996         0         0         0         0         0  \n",
      "41997         0         0         0         0         0  \n",
      "41998         0         0         0         0         0  \n",
      "41999         0         0         0         0         0  \n",
      "\n",
      "[42000 rows x 784 columns]\n"
     ]
    }
   ],
   "source": [
    "Y_train = train_data['label']\n",
    "X_train = train_data.drop(['label'], axis=1)\n",
    "print(Y_train)\n",
    "print(X_train)"
   ]
  },
  {
   "cell_type": "code",
   "execution_count": 10,
   "metadata": {
    "execution": {
     "iopub.execute_input": "2021-09-10T17:00:03.795098Z",
     "iopub.status.busy": "2021-09-10T17:00:03.794555Z",
     "iopub.status.idle": "2021-09-10T17:00:03.834168Z",
     "shell.execute_reply": "2021-09-10T17:00:03.833350Z",
     "shell.execute_reply.started": "2021-09-10T17:00:03.795060Z"
    }
   },
   "outputs": [
    {
     "data": {
      "text/plain": [
       "count       784\n",
       "unique        1\n",
       "top       False\n",
       "freq        784\n",
       "dtype: object"
      ]
     },
     "execution_count": 10,
     "metadata": {},
     "output_type": "execute_result"
    }
   ],
   "source": [
    "X_train.isnull().any().describe()"
   ]
  },
  {
   "cell_type": "markdown",
   "metadata": {},
   "source": [
    "## Data Preprocessing"
   ]
  },
  {
   "cell_type": "code",
   "execution_count": 11,
   "metadata": {
    "execution": {
     "iopub.execute_input": "2021-09-10T17:00:03.835808Z",
     "iopub.status.busy": "2021-09-10T17:00:03.835446Z",
     "iopub.status.idle": "2021-09-10T17:00:03.879251Z",
     "shell.execute_reply": "2021-09-10T17:00:03.878131Z",
     "shell.execute_reply.started": "2021-09-10T17:00:03.835770Z"
    }
   },
   "outputs": [
    {
     "name": "stdout",
     "output_type": "stream",
     "text": [
      "pixel0       0\n",
      "pixel1       0\n",
      "pixel2       0\n",
      "pixel3       0\n",
      "pixel4       0\n",
      "            ..\n",
      "pixel779    62\n",
      "pixel780     0\n",
      "pixel781     0\n",
      "pixel782     0\n",
      "pixel783     0\n",
      "Length: 784, dtype: int64\n"
     ]
    }
   ],
   "source": [
    "X_train = X_train \n",
    "test_data = test_data \n",
    "\n",
    "print(X_train.max())"
   ]
  },
  {
   "cell_type": "code",
   "execution_count": 12,
   "metadata": {
    "execution": {
     "iopub.execute_input": "2021-09-10T17:00:03.881103Z",
     "iopub.status.busy": "2021-09-10T17:00:03.880700Z",
     "iopub.status.idle": "2021-09-10T17:00:03.939629Z",
     "shell.execute_reply": "2021-09-10T17:00:03.938700Z",
     "shell.execute_reply.started": "2021-09-10T17:00:03.881065Z"
    }
   },
   "outputs": [
    {
     "name": "stdout",
     "output_type": "stream",
     "text": [
      "pixel0      0\n",
      "pixel1      0\n",
      "pixel2      0\n",
      "pixel3      0\n",
      "pixel4      0\n",
      "           ..\n",
      "pixel779    0\n",
      "pixel780    0\n",
      "pixel781    0\n",
      "pixel782    0\n",
      "pixel783    0\n",
      "Length: 784, dtype: int64\n",
      "pixel0      0\n",
      "pixel1      0\n",
      "pixel2      0\n",
      "pixel3      0\n",
      "pixel4      0\n",
      "           ..\n",
      "pixel779    0\n",
      "pixel780    0\n",
      "pixel781    0\n",
      "pixel782    0\n",
      "pixel783    0\n",
      "Length: 784, dtype: int64\n"
     ]
    }
   ],
   "source": [
    "print(test_data.max())\n",
    "print(test_data.min())"
   ]
  },
  {
   "cell_type": "markdown",
   "metadata": {
    "execution": {
     "iopub.execute_input": "2021-09-08T01:20:47.111292Z",
     "iopub.status.busy": "2021-09-08T01:20:47.11069Z",
     "iopub.status.idle": "2021-09-08T01:20:47.118352Z",
     "shell.execute_reply": "2021-09-08T01:20:47.116616Z",
     "shell.execute_reply.started": "2021-09-08T01:20:47.111241Z"
    }
   },
   "source": [
    "convert dataframe into numpy array"
   ]
  },
  {
   "cell_type": "code",
   "execution_count": 13,
   "metadata": {
    "execution": {
     "iopub.execute_input": "2021-09-10T17:00:03.942759Z",
     "iopub.status.busy": "2021-09-10T17:00:03.942432Z",
     "iopub.status.idle": "2021-09-10T17:00:03.946786Z",
     "shell.execute_reply": "2021-09-10T17:00:03.945784Z",
     "shell.execute_reply.started": "2021-09-10T17:00:03.942721Z"
    }
   },
   "outputs": [],
   "source": [
    "X_train = X_train.values\n",
    "Y_train = Y_train.values\n",
    "test_data = test_data.values"
   ]
  },
  {
   "cell_type": "code",
   "execution_count": 14,
   "metadata": {
    "execution": {
     "iopub.execute_input": "2021-09-10T17:00:03.949178Z",
     "iopub.status.busy": "2021-09-10T17:00:03.948709Z",
     "iopub.status.idle": "2021-09-10T17:00:03.957078Z",
     "shell.execute_reply": "2021-09-10T17:00:03.956094Z",
     "shell.execute_reply.started": "2021-09-10T17:00:03.949106Z"
    }
   },
   "outputs": [
    {
     "name": "stdout",
     "output_type": "stream",
     "text": [
      "(42000, 28, 28, 1)\n",
      "(28000, 28, 28, 1)\n"
     ]
    }
   ],
   "source": [
    "X_train = X_train.reshape(-1,28,28,1)\n",
    "test_data = test_data.reshape(-1,28,28,1)\n",
    "\n",
    "print(X_train.shape)\n",
    "print(test_data.shape)"
   ]
  },
  {
   "cell_type": "code",
   "execution_count": 15,
   "metadata": {
    "execution": {
     "iopub.execute_input": "2021-09-10T17:00:03.959498Z",
     "iopub.status.busy": "2021-09-10T17:00:03.958765Z",
     "iopub.status.idle": "2021-09-10T17:00:03.965438Z",
     "shell.execute_reply": "2021-09-10T17:00:03.964378Z",
     "shell.execute_reply.started": "2021-09-10T17:00:03.959413Z"
    }
   },
   "outputs": [],
   "source": [
    "def visualize(image):\n",
    "    plt.figure(figsize=(10, 10))\n",
    "    plt.axis('off')\n",
    "    plt.imshow(image)"
   ]
  },
  {
   "cell_type": "code",
   "execution_count": 16,
   "metadata": {
    "execution": {
     "iopub.execute_input": "2021-09-10T17:00:03.967762Z",
     "iopub.status.busy": "2021-09-10T17:00:03.967174Z",
     "iopub.status.idle": "2021-09-10T17:00:04.127768Z",
     "shell.execute_reply": "2021-09-10T17:00:04.126830Z",
     "shell.execute_reply.started": "2021-09-10T17:00:03.967695Z"
    }
   },
   "outputs": [
    {
     "name": "stdout",
     "output_type": "stream",
     "text": [
      "(28, 28, 1)\n"
     ]
    },
    {
     "data": {
      "text/plain": [
       "<matplotlib.image.AxesImage at 0x7f5176835850>"
      ]
     },
     "execution_count": 16,
     "metadata": {},
     "output_type": "execute_result"
    },
    {
     "data": {
      "image/png": "[encoded data removed]",
      "text/plain": [
       "<Figure size 432x288 with 1 Axes>"
      ]
     },
     "metadata": {
      "needs_background": "light"
     },
     "output_type": "display_data"
    }
   ],
   "source": [
    "print(X_train[0].shape)\n",
    "raw_image = X_train[0]\n",
    "plt.imshow(raw_image)"
   ]
  },
  {
   "cell_type": "code",
   "execution_count": 17,
   "metadata": {
    "execution": {
     "iopub.execute_input": "2021-09-10T17:00:04.129497Z",
     "iopub.status.busy": "2021-09-10T17:00:04.129156Z",
     "iopub.status.idle": "2021-09-10T17:00:04.260787Z",
     "shell.execute_reply": "2021-09-10T17:00:04.259871Z",
     "shell.execute_reply.started": "2021-09-10T17:00:04.129460Z"
    }
   },
   "outputs": [
    {
     "name": "stdout",
     "output_type": "stream",
     "text": [
      "(28, 28, 3)\n"
     ]
    },
    {
     "data": {
      "text/plain": [
       "<matplotlib.image.AxesImage at 0x7f5176fd64d0>"
      ]
     },
     "execution_count": 17,
     "metadata": {},
     "output_type": "execute_result"
    },
    {
     "data": {
      "image/png": "[encoded data removed]",
      "text/plain": [
       "<Figure size 432x288 with 1 Axes>"
      ]
     },
     "metadata": {
      "needs_background": "light"
     },
     "output_type": "display_data"
    }
   ],
   "source": [
    "channel3_image = X_train[0]\n",
    "channel3_image = np.repeat(channel3_image,3,axis=2)\n",
    "print(channel3_image.shape)\n",
    "plt.imshow(channel3_image)"
   ]
  },
  {
   "cell_type": "code",
   "execution_count": 18,
   "metadata": {
    "execution": {
     "iopub.execute_input": "2021-09-10T17:00:04.262573Z",
     "iopub.status.busy": "2021-09-10T17:00:04.262220Z",
     "iopub.status.idle": "2021-09-10T17:00:04.523931Z",
     "shell.execute_reply": "2021-09-10T17:00:04.522957Z",
     "shell.execute_reply.started": "2021-09-10T17:00:04.262536Z"
    }
   },
   "outputs": [
    {
     "name": "stdout",
     "output_type": "stream",
     "text": [
      "<class 'numpy.ndarray'>\n",
      "(2,)\n",
      "[<AxesSubplot:> <AxesSubplot:>]\n"
     ]
    },
    {
     "data": {
      "text/plain": [
       "Text(0.5, 1.0, 'transformed')"
      ]
     },
     "execution_count": 18,
     "metadata": {},
     "output_type": "execute_result"
    },
    {
     "data": {
      "image/png": "[encoded data removed]",
      "text/plain": [
       "<Figure size 720x1152 with 2 Axes>"
      ]
     },
     "metadata": {
      "needs_background": "light"
     },
     "output_type": "display_data"
    }
   ],
   "source": [
    "fig, ax = plt.subplots(1, 2, figsize=(10,16))\n",
    "print(type(ax))\n",
    "print(ax.shape)\n",
    "print(ax)\n",
    "ax[0].imshow(raw_image)\n",
    "ax[0].set_title('initial')\n",
    "ax[1].imshow(channel3_image)\n",
    "ax[1].set_title('transformed')"
   ]
  },
  {
   "cell_type": "code",
   "execution_count": 19,
   "metadata": {
    "execution": {
     "iopub.execute_input": "2021-09-10T17:00:04.525710Z",
     "iopub.status.busy": "2021-09-10T17:00:04.525334Z",
     "iopub.status.idle": "2021-09-10T17:00:04.531097Z",
     "shell.execute_reply": "2021-09-10T17:00:04.530206Z",
     "shell.execute_reply.started": "2021-09-10T17:00:04.525662Z"
    }
   },
   "outputs": [],
   "source": [
    "image = X_train[0]\n",
    "image = image.astype(dtype=np.uint8)\n",
    "transform = A.Compose([\n",
    "    A.ShiftScaleRotate(p=0.5),\n",
    "    A.Normalize(mean=(0.5,),std=(0.5,)),\n",
    "    #A.pytorch.ToTensorV2()\n",
    "                      ])\n",
    "plt.imshow(transform(image=image)['image'])"
   ]
  },
  {
   "cell_type": "code",
   "execution_count": 20,
   "metadata": {
    "execution": {
     "iopub.execute_input": "2021-09-10T17:00:04.533093Z",
     "iopub.status.busy": "2021-09-10T17:00:04.532497Z",
     "iopub.status.idle": "2021-09-10T17:00:04.542657Z",
     "shell.execute_reply": "2021-09-10T17:00:04.541701Z",
     "shell.execute_reply.started": "2021-09-10T17:00:04.533055Z"
    }
   },
   "outputs": [
    {
     "name": "stdout",
     "output_type": "stream",
     "text": [
      "(28, 28, 1)\n",
      "0\n",
      "255\n"
     ]
    }
   ],
   "source": [
    "print(image.shape)\n",
    "print(image.min())\n",
    "print(image.max())"
   ]
  },
  {
   "cell_type": "code",
   "execution_count": 21,
   "metadata": {
    "execution": {
     "iopub.execute_input": "2021-09-10T17:00:04.544410Z",
     "iopub.status.busy": "2021-09-10T17:00:04.544002Z",
     "iopub.status.idle": "2021-09-10T17:00:04.645998Z",
     "shell.execute_reply": "2021-09-10T17:00:04.645114Z",
     "shell.execute_reply.started": "2021-09-10T17:00:04.544374Z"
    }
   },
   "outputs": [
    {
     "name": "stdout",
     "output_type": "stream",
     "text": [
      "tensor(-1.)\n",
      "tensor(0.9922)\n",
      "<class 'torch.Tensor'>\n",
      "torch.Size([1, 28, 28])\n"
     ]
    }
   ],
   "source": [
    "transformed_image=transform(image=image)['image']\n",
    "print(transformed_image.min())\n",
    "print(transformed_image.max())\n",
    "print(type(transformed_image))\n",
    "print(transformed_image.shape)"
   ]
  },
  {
   "cell_type": "code",
   "execution_count": 22,
   "metadata": {
    "execution": {
     "iopub.execute_input": "2021-09-10T17:00:04.647516Z",
     "iopub.status.busy": "2021-09-10T17:00:04.647193Z",
     "iopub.status.idle": "2021-09-10T17:00:04.658981Z",
     "shell.execute_reply": "2021-09-10T17:00:04.658076Z",
     "shell.execute_reply.started": "2021-09-10T17:00:04.647487Z"
    }
   },
   "outputs": [],
   "source": [
    "class MNIST_dataset(Dataset):\n",
    "    def __init__(self, x, y, transform=None):\n",
    "        self.x = x\n",
    "        self.y = y\n",
    "        self.transform = transform\n",
    "        \n",
    "    def __len__(self):\n",
    "        return len(self.x)\n",
    "    \n",
    "    def __getitem__(self,idx):\n",
    "        x = self.x[idx].astype(dtype=np.uint8)      \n",
    "        y = torch.tensor(self.y[idx])\n",
    "        if self.transform:\n",
    "            x = self.transform(image = x)['image']\n",
    "        return x, y\n",
    "    \n",
    "class MNIST_test_dataset(Dataset):\n",
    "    def __init__(self, x, transform=None):\n",
    "        self.x = x\n",
    "        self.transform = transform\n",
    "    def __len__(self):\n",
    "        return len(self.x)\n",
    "    def __getitem__(self,idx):\n",
    "        x = self.x[idx].astype(dtype=np.uint8)\n",
    "        if self.transform:\n",
    "            x = self.transform(image = x)['image']\n",
    "        return x\n",
    "        "
   ]
  },
  {
   "cell_type": "code",
   "execution_count": 23,
   "metadata": {
    "execution": {
     "iopub.execute_input": "2021-09-10T17:00:04.662419Z",
     "iopub.status.busy": "2021-09-10T17:00:04.662156Z",
     "iopub.status.idle": "2021-09-10T17:00:05.071851Z",
     "shell.execute_reply": "2021-09-10T17:00:05.070997Z",
     "shell.execute_reply.started": "2021-09-10T17:00:04.662395Z"
    }
   },
   "outputs": [],
   "source": [
    "x_train, x_valid, y_train, y_valid = train_test_split(X_train, Y_train, test_size = 0.2, shuffle = True, stratify = Y_train, random_state=777)\n",
    "\n",
    "train_dataset = MNIST_dataset(x_train, y_train, transform = albumentations.Compose([ \n",
    "    A.ShiftScaleRotate(p=0.5),\n",
    "    A.Normalize(mean=(0.5),std=(0.5)),\n",
    "    A.pytorch.ToTensorV2()\n",
    "]))\n",
    "valid_dataset = MNIST_dataset(x_valid, y_valid,  transform = albumentations.Compose([ \n",
    "    A.Normalize(mean=(0.5),std=(0.5)),\n",
    "    A.pytorch.ToTensorV2 ()\n",
    "]))\n",
    "test_dataset  = MNIST_test_dataset(test_data, transform = albumentations.Compose([ \n",
    "    A.Normalize(mean=(0.5),std=(0.5)),\n",
    "    A.pytorch.ToTensorV2 ()\n",
    "]))\n",
    "\n",
    "train_dataloader = DataLoader(dataset = train_dataset, batch_size = 64, shuffle=True)\n",
    "valid_dataloader  = DataLoader(dataset = valid_dataset, batch_size = 64, shuffle=True)\n",
    "test_dataloader  = DataLoader(dataset = test_dataset,  batch_size = 64)"
   ]
  },
  {
   "cell_type": "markdown",
   "metadata": {
    "execution": {
     "iopub.execute_input": "2021-09-07T08:58:11.293974Z",
     "iopub.status.busy": "2021-09-07T08:58:11.293237Z",
     "iopub.status.idle": "2021-09-07T08:58:11.299051Z",
     "shell.execute_reply": "2021-09-07T08:58:11.297912Z",
     "shell.execute_reply.started": "2021-09-07T08:58:11.293912Z"
    }
   },
   "source": [
    "## Model"
   ]
  },
  {
   "cell_type": "code",
   "execution_count": 24,
   "metadata": {
    "execution": {
     "iopub.execute_input": "2021-09-10T17:00:05.073638Z",
     "iopub.status.busy": "2021-09-10T17:00:05.073285Z",
     "iopub.status.idle": "2021-09-10T17:00:05.089113Z",
     "shell.execute_reply": "2021-09-10T17:00:05.088179Z",
     "shell.execute_reply.started": "2021-09-10T17:00:05.073600Z"
    }
   },
   "outputs": [],
   "source": [
    "class CNN(nn.Module):\n",
    "    def __init__(self):\n",
    "        super().__init__()\n",
    "        self.conv1 = nn.Conv2d(in_channels=1,  out_channels=16, kernel_size=3, stride=1)\n",
    "        self.conv2 = nn.Conv2d(in_channels=16, out_channels=32, kernel_size=3, stride=1)\n",
    "        self.conv3 = nn.Conv2d(in_channels=32, out_channels=64, kernel_size=3, stride=1)\n",
    "        self.conv4 = nn.Conv2d(in_channels=64, out_channels=128, kernel_size=3, stride=1)\n",
    "        \n",
    "        self.fc1 = nn.Linear(128*8*8,1024)\n",
    "        self.fc2 = nn.Linear(1024,512)\n",
    "        self.fc3 = nn.Linear(512,10)\n",
    "        \n",
    "        self.batchnorm1 = nn.BatchNorm2d(16)\n",
    "        self.batchnorm2 = nn.BatchNorm2d(32)\n",
    "        self.batchnorm3 = nn.BatchNorm2d(64)\n",
    "        self.batchnorm4 = nn.BatchNorm2d(128)\n",
    "        self.drop = nn.Dropout2d(p=0.5)\n",
    "        self.max_pool = nn.MaxPool2d(kernel_size=2, stride=2)\n",
    "        self.relu = nn.ReLU()\n",
    "        \n",
    "        #initilization\n",
    "        nn.init.kaiming_normal_(self.conv1.weight, mode='fan_in', nonlinearity='relu')\n",
    "        nn.init.kaiming_normal_(self.conv2.weight, mode='fan_in', nonlinearity='relu')\n",
    "        nn.init.kaiming_normal_(self.conv3.weight, mode='fan_in', nonlinearity='relu')\n",
    "        nn.init.kaiming_normal_(self.conv4.weight, mode='fan_in', nonlinearity='relu')\n",
    "        nn.init.kaiming_normal_(self.fc1.weight, mode='fan_in', nonlinearity='relu')\n",
    "        nn.init.kaiming_normal_(self.fc2.weight, mode='fan_in', nonlinearity='relu')\n",
    "        nn.init.kaiming_normal_(self.fc3.weight, mode='fan_in', nonlinearity='relu')\n",
    "\n",
    "        \n",
    "    def forward(self,x):\n",
    "        #x shape: 64*1*28*28\n",
    "        out = self.conv1(x)\n",
    "        out = self.batchnorm1(out)\n",
    "        out = self.relu(out)\n",
    "        #64*16*26*26\n",
    "        \n",
    "        out = self.conv2(out)\n",
    "        out = self.batchnorm2(out) \n",
    "        out = self.relu(out)\n",
    "        #64*32*24*24\n",
    "        \n",
    "        out = self.max_pool(out)\n",
    "        #64*32*12*12\n",
    "        \n",
    "        out = self.conv3(out)\n",
    "        out = self.batchnorm3(out) \n",
    "        out = self.relu(out)\n",
    "        #64*64*10*10\n",
    "        \n",
    "        out = self.conv4(out)\n",
    "        out = self.batchnorm4(out) \n",
    "        out = self.relu(out)\n",
    "        #64*128*8*8\n",
    "        #flatten\n",
    "        out = out.view(out.size(0),-1)\n",
    "        #64*128*8*8\n",
    "        \n",
    "        out = self.fc1(out)\n",
    "        out = self.relu(out)\n",
    "        out = self.drop(out)\n",
    "        \n",
    "        out = self.fc2(out)\n",
    "        out = self.relu(out)\n",
    "        out = self.drop(out)\n",
    "        \n",
    "        out = self.fc3(out)\n",
    "        \n",
    "        return out\n",
    "        "
   ]
  },
  {
   "cell_type": "code",
   "execution_count": 25,
   "metadata": {
    "execution": {
     "iopub.execute_input": "2021-09-10T17:00:05.090723Z",
     "iopub.status.busy": "2021-09-10T17:00:05.090333Z",
     "iopub.status.idle": "2021-09-10T17:00:09.313543Z",
     "shell.execute_reply": "2021-09-10T17:00:09.312710Z",
     "shell.execute_reply.started": "2021-09-10T17:00:05.090683Z"
    }
   },
   "outputs": [],
   "source": [
    "model = CNN().to(device)"
   ]
  },
  {
   "cell_type": "code",
   "execution_count": 26,
   "metadata": {
    "execution": {
     "iopub.execute_input": "2021-09-10T17:00:09.315264Z",
     "iopub.status.busy": "2021-09-10T17:00:09.314862Z",
     "iopub.status.idle": "2021-09-10T17:00:09.320587Z",
     "shell.execute_reply": "2021-09-10T17:00:09.319625Z",
     "shell.execute_reply.started": "2021-09-10T17:00:09.315226Z"
    }
   },
   "outputs": [],
   "source": [
    "optimizer = optim.Adam(model.parameters(),lr=1e-3,betas=(0.9,0.999))\n",
    "criterion = nn.CrossEntropyLoss()"
   ]
  },
  {
   "cell_type": "code",
   "execution_count": 27,
   "metadata": {
    "execution": {
     "iopub.execute_input": "2021-09-10T17:00:09.323577Z",
     "iopub.status.busy": "2021-09-10T17:00:09.323222Z",
     "iopub.status.idle": "2021-09-10T17:18:21.229583Z",
     "shell.execute_reply": "2021-09-10T17:18:21.228115Z",
     "shell.execute_reply.started": "2021-09-10T17:00:09.323541Z"
    }
   },
   "outputs": [
    {
     "name": "stdout",
     "output_type": "stream",
     "text": [
      "Epoch:1/500 AVG Training Loss: 0.6192 AVG Test Loss: 0.076 AVG Training ACC: 82.827% AVG Test ACC: 97.774%\n",
      "Validation loss decreased (inf --> 0.075748).  Saving model ...\n",
      "Epoch:2/500 AVG Training Loss: 0.2216 AVG Test Loss: 0.049 AVG Training ACC: 93.551% AVG Test ACC: 98.452%\n",
      "Validation loss decreased (0.075748 --> 0.049176).  Saving model ...\n",
      "Epoch:3/500 AVG Training Loss: 0.1581 AVG Test Loss: 0.042 AVG Training ACC: 95.348% AVG Test ACC: 98.714%\n",
      "Validation loss decreased (0.049176 --> 0.042040).  Saving model ...\n",
      "Epoch:4/500 AVG Training Loss: 0.1381 AVG Test Loss: 0.038 AVG Training ACC: 96.107% AVG Test ACC: 98.964%\n",
      "Validation loss decreased (0.042040 --> 0.037515).  Saving model ...\n",
      "Epoch:5/500 AVG Training Loss: 0.1232 AVG Test Loss: 0.054 AVG Training ACC: 96.592% AVG Test ACC: 98.464%\n",
      "EarlyStopping counter: 1 out of 100\n",
      "Epoch:6/500 AVG Training Loss: 0.1076 AVG Test Loss: 0.033 AVG Training ACC: 96.997% AVG Test ACC: 99.107%\n",
      "Validation loss decreased (0.037515 --> 0.033186).  Saving model ...\n",
      "Epoch:7/500 AVG Training Loss: 0.0944 AVG Test Loss: 0.031 AVG Training ACC: 97.330% AVG Test ACC: 99.095%\n",
      "Validation loss decreased (0.033186 --> 0.031051).  Saving model ...\n",
      "Epoch:8/500 AVG Training Loss: 0.0926 AVG Test Loss: 0.031 AVG Training ACC: 97.438% AVG Test ACC: 99.250%\n",
      "Validation loss decreased (0.031051 --> 0.030940).  Saving model ...\n",
      "Epoch:9/500 AVG Training Loss: 0.0876 AVG Test Loss: 0.039 AVG Training ACC: 97.598% AVG Test ACC: 98.976%\n",
      "EarlyStopping counter: 1 out of 100\n",
      "Epoch:10/500 AVG Training Loss: 0.0777 AVG Test Loss: 0.040 AVG Training ACC: 97.932% AVG Test ACC: 98.940%\n",
      "EarlyStopping counter: 2 out of 100\n",
      "Epoch:11/500 AVG Training Loss: 0.0785 AVG Test Loss: 0.034 AVG Training ACC: 97.890% AVG Test ACC: 99.131%\n",
      "EarlyStopping counter: 3 out of 100\n",
      "Epoch:12/500 AVG Training Loss: 0.0726 AVG Test Loss: 0.026 AVG Training ACC: 98.027% AVG Test ACC: 99.214%\n",
      "Validation loss decreased (0.030940 --> 0.025967).  Saving model ...\n",
      "Epoch:13/500 AVG Training Loss: 0.0688 AVG Test Loss: 0.034 AVG Training ACC: 98.182% AVG Test ACC: 99.000%\n",
      "EarlyStopping counter: 1 out of 100\n",
      "Epoch:14/500 AVG Training Loss: 0.0667 AVG Test Loss: 0.034 AVG Training ACC: 98.173% AVG Test ACC: 99.000%\n",
      "EarlyStopping counter: 2 out of 100\n",
      "Epoch:15/500 AVG Training Loss: 0.0625 AVG Test Loss: 0.025 AVG Training ACC: 98.289% AVG Test ACC: 99.321%\n",
      "Validation loss decreased (0.025967 --> 0.024668).  Saving model ...\n",
      "Epoch:16/500 AVG Training Loss: 0.0616 AVG Test Loss: 0.029 AVG Training ACC: 98.378% AVG Test ACC: 99.226%\n",
      "EarlyStopping counter: 1 out of 100\n",
      "Epoch:17/500 AVG Training Loss: 0.0573 AVG Test Loss: 0.033 AVG Training ACC: 98.446% AVG Test ACC: 99.155%\n",
      "EarlyStopping counter: 2 out of 100\n",
      "Epoch:18/500 AVG Training Loss: 0.0559 AVG Test Loss: 0.029 AVG Training ACC: 98.530% AVG Test ACC: 99.262%\n",
      "EarlyStopping counter: 3 out of 100\n",
      "Epoch:19/500 AVG Training Loss: 0.0549 AVG Test Loss: 0.030 AVG Training ACC: 98.562% AVG Test ACC: 99.179%\n",
      "EarlyStopping counter: 4 out of 100\n",
      "Epoch:20/500 AVG Training Loss: 0.0517 AVG Test Loss: 0.030 AVG Training ACC: 98.637% AVG Test ACC: 99.250%\n",
      "EarlyStopping counter: 5 out of 100\n",
      "Epoch:21/500 AVG Training Loss: 0.0523 AVG Test Loss: 0.025 AVG Training ACC: 98.613% AVG Test ACC: 99.381%\n",
      "EarlyStopping counter: 6 out of 100\n",
      "Epoch:22/500 AVG Training Loss: 0.0520 AVG Test Loss: 0.026 AVG Training ACC: 98.685% AVG Test ACC: 99.381%\n",
      "EarlyStopping counter: 7 out of 100\n",
      "Epoch:23/500 AVG Training Loss: 0.0484 AVG Test Loss: 0.027 AVG Training ACC: 98.693% AVG Test ACC: 99.333%\n",
      "EarlyStopping counter: 8 out of 100\n",
      "Epoch:24/500 AVG Training Loss: 0.0531 AVG Test Loss: 0.032 AVG Training ACC: 98.723% AVG Test ACC: 99.214%\n",
      "EarlyStopping counter: 9 out of 100\n",
      "Epoch:25/500 AVG Training Loss: 0.0474 AVG Test Loss: 0.024 AVG Training ACC: 98.818% AVG Test ACC: 99.393%\n",
      "Validation loss decreased (0.024668 --> 0.024365).  Saving model ...\n",
      "Epoch:26/500 AVG Training Loss: 0.0466 AVG Test Loss: 0.031 AVG Training ACC: 98.714% AVG Test ACC: 99.333%\n",
      "EarlyStopping counter: 1 out of 100\n",
      "Epoch:27/500 AVG Training Loss: 0.0439 AVG Test Loss: 0.027 AVG Training ACC: 98.795% AVG Test ACC: 99.452%\n",
      "EarlyStopping counter: 2 out of 100\n",
      "Epoch:28/500 AVG Training Loss: 0.0424 AVG Test Loss: 0.029 AVG Training ACC: 98.896% AVG Test ACC: 99.417%\n",
      "EarlyStopping counter: 3 out of 100\n",
      "Epoch:29/500 AVG Training Loss: 0.0405 AVG Test Loss: 0.040 AVG Training ACC: 98.970% AVG Test ACC: 99.190%\n",
      "EarlyStopping counter: 4 out of 100\n",
      "Epoch:30/500 AVG Training Loss: 0.0379 AVG Test Loss: 0.032 AVG Training ACC: 98.946% AVG Test ACC: 99.345%\n",
      "EarlyStopping counter: 5 out of 100\n",
      "Epoch:31/500 AVG Training Loss: 0.0372 AVG Test Loss: 0.031 AVG Training ACC: 99.057% AVG Test ACC: 99.310%\n",
      "EarlyStopping counter: 6 out of 100\n",
      "Epoch:32/500 AVG Training Loss: 0.0373 AVG Test Loss: 0.029 AVG Training ACC: 98.949% AVG Test ACC: 99.393%\n",
      "EarlyStopping counter: 7 out of 100\n",
      "Epoch:33/500 AVG Training Loss: 0.0412 AVG Test Loss: 0.039 AVG Training ACC: 98.917% AVG Test ACC: 99.214%\n",
      "EarlyStopping counter: 8 out of 100\n",
      "Epoch:34/500 AVG Training Loss: 0.0395 AVG Test Loss: 0.032 AVG Training ACC: 98.991% AVG Test ACC: 99.298%\n",
      "EarlyStopping counter: 9 out of 100\n",
      "Epoch:35/500 AVG Training Loss: 0.0382 AVG Test Loss: 0.030 AVG Training ACC: 98.982% AVG Test ACC: 99.286%\n",
      "EarlyStopping counter: 10 out of 100\n",
      "Epoch:36/500 AVG Training Loss: 0.0374 AVG Test Loss: 0.035 AVG Training ACC: 99.077% AVG Test ACC: 99.262%\n",
      "EarlyStopping counter: 11 out of 100\n",
      "Epoch:37/500 AVG Training Loss: 0.0380 AVG Test Loss: 0.040 AVG Training ACC: 98.976% AVG Test ACC: 99.333%\n",
      "EarlyStopping counter: 12 out of 100\n",
      "Epoch:38/500 AVG Training Loss: 0.0321 AVG Test Loss: 0.035 AVG Training ACC: 99.170% AVG Test ACC: 99.369%\n",
      "EarlyStopping counter: 13 out of 100\n",
      "Epoch:39/500 AVG Training Loss: 0.0356 AVG Test Loss: 0.036 AVG Training ACC: 99.119% AVG Test ACC: 99.357%\n",
      "EarlyStopping counter: 14 out of 100\n",
      "Epoch:40/500 AVG Training Loss: 0.0306 AVG Test Loss: 0.038 AVG Training ACC: 99.214% AVG Test ACC: 99.310%\n",
      "EarlyStopping counter: 15 out of 100\n",
      "Epoch:41/500 AVG Training Loss: 0.0426 AVG Test Loss: 0.032 AVG Training ACC: 98.970% AVG Test ACC: 99.381%\n",
      "EarlyStopping counter: 16 out of 100\n",
      "Epoch:42/500 AVG Training Loss: 0.0299 AVG Test Loss: 0.035 AVG Training ACC: 99.229% AVG Test ACC: 99.298%\n",
      "EarlyStopping counter: 17 out of 100\n",
      "Epoch:43/500 AVG Training Loss: 0.0322 AVG Test Loss: 0.034 AVG Training ACC: 99.110% AVG Test ACC: 99.226%\n",
      "EarlyStopping counter: 18 out of 100\n",
      "Epoch:44/500 AVG Training Loss: 0.0323 AVG Test Loss: 0.031 AVG Training ACC: 99.161% AVG Test ACC: 99.405%\n",
      "EarlyStopping counter: 19 out of 100\n",
      "Epoch:45/500 AVG Training Loss: 0.0335 AVG Test Loss: 0.035 AVG Training ACC: 99.098% AVG Test ACC: 99.417%\n",
      "EarlyStopping counter: 20 out of 100\n",
      "Epoch:46/500 AVG Training Loss: 0.0276 AVG Test Loss: 0.034 AVG Training ACC: 99.220% AVG Test ACC: 99.369%\n",
      "EarlyStopping counter: 21 out of 100\n",
      "Epoch:47/500 AVG Training Loss: 0.0329 AVG Test Loss: 0.034 AVG Training ACC: 99.199% AVG Test ACC: 99.393%\n",
      "EarlyStopping counter: 22 out of 100\n",
      "Epoch:48/500 AVG Training Loss: 0.0330 AVG Test Loss: 0.032 AVG Training ACC: 99.170% AVG Test ACC: 99.345%\n",
      "EarlyStopping counter: 23 out of 100\n",
      "Epoch:49/500 AVG Training Loss: 0.0302 AVG Test Loss: 0.031 AVG Training ACC: 99.241% AVG Test ACC: 99.357%\n",
      "EarlyStopping counter: 24 out of 100\n",
      "Epoch:50/500 AVG Training Loss: 0.0332 AVG Test Loss: 0.031 AVG Training ACC: 99.188% AVG Test ACC: 99.333%\n",
      "EarlyStopping counter: 25 out of 100\n",
      "Epoch:51/500 AVG Training Loss: 0.0304 AVG Test Loss: 0.042 AVG Training ACC: 99.259% AVG Test ACC: 99.298%\n",
      "EarlyStopping counter: 26 out of 100\n",
      "Epoch:52/500 AVG Training Loss: 0.0336 AVG Test Loss: 0.028 AVG Training ACC: 99.155% AVG Test ACC: 99.381%\n",
      "EarlyStopping counter: 27 out of 100\n",
      "Epoch:53/500 AVG Training Loss: 0.0304 AVG Test Loss: 0.032 AVG Training ACC: 99.298% AVG Test ACC: 99.393%\n",
      "EarlyStopping counter: 28 out of 100\n",
      "Epoch:54/500 AVG Training Loss: 0.0306 AVG Test Loss: 0.035 AVG Training ACC: 99.202% AVG Test ACC: 99.286%\n",
      "EarlyStopping counter: 29 out of 100\n",
      "Epoch:55/500 AVG Training Loss: 0.0294 AVG Test Loss: 0.040 AVG Training ACC: 99.226% AVG Test ACC: 99.321%\n",
      "EarlyStopping counter: 30 out of 100\n",
      "Epoch:56/500 AVG Training Loss: 0.0276 AVG Test Loss: 0.039 AVG Training ACC: 99.327% AVG Test ACC: 99.369%\n",
      "EarlyStopping counter: 31 out of 100\n",
      "Epoch:57/500 AVG Training Loss: 0.0257 AVG Test Loss: 0.045 AVG Training ACC: 99.289% AVG Test ACC: 99.250%\n",
      "EarlyStopping counter: 32 out of 100\n",
      "Epoch:58/500 AVG Training Loss: 0.0276 AVG Test Loss: 0.045 AVG Training ACC: 99.274% AVG Test ACC: 99.274%\n",
      "EarlyStopping counter: 33 out of 100\n",
      "Epoch:59/500 AVG Training Loss: 0.0345 AVG Test Loss: 0.033 AVG Training ACC: 99.220% AVG Test ACC: 99.357%\n",
      "EarlyStopping counter: 34 out of 100\n",
      "Epoch:60/500 AVG Training Loss: 0.0290 AVG Test Loss: 0.029 AVG Training ACC: 99.205% AVG Test ACC: 99.417%\n",
      "EarlyStopping counter: 35 out of 100\n",
      "Epoch:61/500 AVG Training Loss: 0.0269 AVG Test Loss: 0.033 AVG Training ACC: 99.301% AVG Test ACC: 99.357%\n",
      "EarlyStopping counter: 36 out of 100\n",
      "Epoch:62/500 AVG Training Loss: 0.0262 AVG Test Loss: 0.030 AVG Training ACC: 99.396% AVG Test ACC: 99.512%\n",
      "EarlyStopping counter: 37 out of 100\n",
      "Epoch:63/500 AVG Training Loss: 0.0299 AVG Test Loss: 0.035 AVG Training ACC: 99.286% AVG Test ACC: 99.488%\n",
      "EarlyStopping counter: 38 out of 100\n",
      "Epoch:64/500 AVG Training Loss: 0.0297 AVG Test Loss: 0.038 AVG Training ACC: 99.241% AVG Test ACC: 99.357%\n",
      "EarlyStopping counter: 39 out of 100\n",
      "Epoch:65/500 AVG Training Loss: 0.0275 AVG Test Loss: 0.042 AVG Training ACC: 99.235% AVG Test ACC: 99.298%\n",
      "EarlyStopping counter: 40 out of 100\n",
      "Epoch:66/500 AVG Training Loss: 0.0296 AVG Test Loss: 0.032 AVG Training ACC: 99.271% AVG Test ACC: 99.345%\n",
      "EarlyStopping counter: 41 out of 100\n",
      "Epoch:67/500 AVG Training Loss: 0.0247 AVG Test Loss: 0.047 AVG Training ACC: 99.384% AVG Test ACC: 99.274%\n",
      "EarlyStopping counter: 42 out of 100\n",
      "Epoch:68/500 AVG Training Loss: 0.0253 AVG Test Loss: 0.054 AVG Training ACC: 99.363% AVG Test ACC: 99.321%\n",
      "EarlyStopping counter: 43 out of 100\n",
      "Epoch:69/500 AVG Training Loss: 0.0285 AVG Test Loss: 0.038 AVG Training ACC: 99.280% AVG Test ACC: 99.298%\n",
      "EarlyStopping counter: 44 out of 100\n",
      "Epoch:70/500 AVG Training Loss: 0.0292 AVG Test Loss: 0.040 AVG Training ACC: 99.283% AVG Test ACC: 99.405%\n",
      "EarlyStopping counter: 45 out of 100\n",
      "Epoch:71/500 AVG Training Loss: 0.0267 AVG Test Loss: 0.048 AVG Training ACC: 99.318% AVG Test ACC: 99.321%\n",
      "EarlyStopping counter: 46 out of 100\n",
      "Epoch:72/500 AVG Training Loss: 0.0305 AVG Test Loss: 0.038 AVG Training ACC: 99.253% AVG Test ACC: 99.321%\n",
      "EarlyStopping counter: 47 out of 100\n",
      "Epoch:73/500 AVG Training Loss: 0.0236 AVG Test Loss: 0.046 AVG Training ACC: 99.387% AVG Test ACC: 99.369%\n",
      "EarlyStopping counter: 48 out of 100\n",
      "Epoch:74/500 AVG Training Loss: 0.0264 AVG Test Loss: 0.042 AVG Training ACC: 99.342% AVG Test ACC: 99.345%\n",
      "EarlyStopping counter: 49 out of 100\n",
      "Epoch:75/500 AVG Training Loss: 0.0249 AVG Test Loss: 0.036 AVG Training ACC: 99.369% AVG Test ACC: 99.393%\n",
      "EarlyStopping counter: 50 out of 100\n",
      "Epoch:76/500 AVG Training Loss: 0.0276 AVG Test Loss: 0.045 AVG Training ACC: 99.333% AVG Test ACC: 99.202%\n",
      "EarlyStopping counter: 51 out of 100\n",
      "Epoch:77/500 AVG Training Loss: 0.0239 AVG Test Loss: 0.040 AVG Training ACC: 99.339% AVG Test ACC: 99.405%\n",
      "EarlyStopping counter: 52 out of 100\n",
      "Epoch:78/500 AVG Training Loss: 0.0255 AVG Test Loss: 0.044 AVG Training ACC: 99.420% AVG Test ACC: 99.393%\n",
      "EarlyStopping counter: 53 out of 100\n",
      "Epoch:79/500 AVG Training Loss: 0.0272 AVG Test Loss: 0.039 AVG Training ACC: 99.304% AVG Test ACC: 99.333%\n",
      "EarlyStopping counter: 54 out of 100\n",
      "Epoch:80/500 AVG Training Loss: 0.0234 AVG Test Loss: 0.041 AVG Training ACC: 99.417% AVG Test ACC: 99.369%\n",
      "EarlyStopping counter: 55 out of 100\n",
      "Epoch:81/500 AVG Training Loss: 0.0266 AVG Test Loss: 0.046 AVG Training ACC: 99.390% AVG Test ACC: 99.333%\n",
      "EarlyStopping counter: 56 out of 100\n",
      "Epoch:82/500 AVG Training Loss: 0.0243 AVG Test Loss: 0.042 AVG Training ACC: 99.420% AVG Test ACC: 99.440%\n",
      "EarlyStopping counter: 57 out of 100\n",
      "Epoch:83/500 AVG Training Loss: 0.0282 AVG Test Loss: 0.048 AVG Training ACC: 99.372% AVG Test ACC: 99.345%\n",
      "EarlyStopping counter: 58 out of 100\n",
      "Epoch:84/500 AVG Training Loss: 0.0255 AVG Test Loss: 0.057 AVG Training ACC: 99.381% AVG Test ACC: 99.190%\n",
      "EarlyStopping counter: 59 out of 100\n",
      "Epoch:85/500 AVG Training Loss: 0.0227 AVG Test Loss: 0.041 AVG Training ACC: 99.399% AVG Test ACC: 99.369%\n",
      "EarlyStopping counter: 60 out of 100\n",
      "Epoch:86/500 AVG Training Loss: 0.0223 AVG Test Loss: 0.049 AVG Training ACC: 99.426% AVG Test ACC: 99.274%\n",
      "EarlyStopping counter: 61 out of 100\n",
      "Epoch:87/500 AVG Training Loss: 0.0269 AVG Test Loss: 0.041 AVG Training ACC: 99.351% AVG Test ACC: 99.298%\n",
      "EarlyStopping counter: 62 out of 100\n",
      "Epoch:88/500 AVG Training Loss: 0.0230 AVG Test Loss: 0.052 AVG Training ACC: 99.426% AVG Test ACC: 99.286%\n",
      "EarlyStopping counter: 63 out of 100\n",
      "Epoch:89/500 AVG Training Loss: 0.0269 AVG Test Loss: 0.043 AVG Training ACC: 99.342% AVG Test ACC: 99.393%\n",
      "EarlyStopping counter: 64 out of 100\n",
      "Epoch:90/500 AVG Training Loss: 0.0261 AVG Test Loss: 0.043 AVG Training ACC: 99.384% AVG Test ACC: 99.333%\n",
      "EarlyStopping counter: 65 out of 100\n",
      "Epoch:91/500 AVG Training Loss: 0.0292 AVG Test Loss: 0.041 AVG Training ACC: 99.304% AVG Test ACC: 99.393%\n",
      "EarlyStopping counter: 66 out of 100\n",
      "Epoch:92/500 AVG Training Loss: 0.0251 AVG Test Loss: 0.045 AVG Training ACC: 99.378% AVG Test ACC: 99.274%\n",
      "EarlyStopping counter: 67 out of 100\n",
      "Epoch:93/500 AVG Training Loss: 0.0253 AVG Test Loss: 0.047 AVG Training ACC: 99.381% AVG Test ACC: 99.286%\n",
      "EarlyStopping counter: 68 out of 100\n",
      "Epoch:94/500 AVG Training Loss: 0.0213 AVG Test Loss: 0.052 AVG Training ACC: 99.399% AVG Test ACC: 99.321%\n",
      "EarlyStopping counter: 69 out of 100\n",
      "Epoch:95/500 AVG Training Loss: 0.0250 AVG Test Loss: 0.052 AVG Training ACC: 99.399% AVG Test ACC: 99.357%\n",
      "EarlyStopping counter: 70 out of 100\n",
      "Epoch:96/500 AVG Training Loss: 0.0226 AVG Test Loss: 0.072 AVG Training ACC: 99.473% AVG Test ACC: 99.179%\n",
      "EarlyStopping counter: 71 out of 100\n",
      "Epoch:97/500 AVG Training Loss: 0.0260 AVG Test Loss: 0.055 AVG Training ACC: 99.330% AVG Test ACC: 99.321%\n",
      "EarlyStopping counter: 72 out of 100\n",
      "Epoch:98/500 AVG Training Loss: 0.0242 AVG Test Loss: 0.049 AVG Training ACC: 99.411% AVG Test ACC: 99.357%\n",
      "EarlyStopping counter: 73 out of 100\n",
      "Epoch:99/500 AVG Training Loss: 0.0220 AVG Test Loss: 0.043 AVG Training ACC: 99.482% AVG Test ACC: 99.333%\n",
      "EarlyStopping counter: 74 out of 100\n",
      "Epoch:100/500 AVG Training Loss: 0.0255 AVG Test Loss: 0.057 AVG Training ACC: 99.405% AVG Test ACC: 99.321%\n",
      "EarlyStopping counter: 75 out of 100\n",
      "Epoch:101/500 AVG Training Loss: 0.0243 AVG Test Loss: 0.045 AVG Training ACC: 99.446% AVG Test ACC: 99.440%\n",
      "EarlyStopping counter: 76 out of 100\n",
      "Epoch:102/500 AVG Training Loss: 0.0184 AVG Test Loss: 0.056 AVG Training ACC: 99.503% AVG Test ACC: 99.393%\n",
      "EarlyStopping counter: 77 out of 100\n",
      "Epoch:103/500 AVG Training Loss: 0.0234 AVG Test Loss: 0.049 AVG Training ACC: 99.417% AVG Test ACC: 99.405%\n",
      "EarlyStopping counter: 78 out of 100\n",
      "Epoch:104/500 AVG Training Loss: 0.0254 AVG Test Loss: 0.059 AVG Training ACC: 99.402% AVG Test ACC: 99.417%\n",
      "EarlyStopping counter: 79 out of 100\n",
      "Epoch:105/500 AVG Training Loss: 0.0240 AVG Test Loss: 0.051 AVG Training ACC: 99.408% AVG Test ACC: 99.310%\n",
      "EarlyStopping counter: 80 out of 100\n",
      "Epoch:106/500 AVG Training Loss: 0.0232 AVG Test Loss: 0.058 AVG Training ACC: 99.443% AVG Test ACC: 99.298%\n",
      "EarlyStopping counter: 81 out of 100\n",
      "Epoch:107/500 AVG Training Loss: 0.0242 AVG Test Loss: 0.051 AVG Training ACC: 99.396% AVG Test ACC: 99.333%\n",
      "EarlyStopping counter: 82 out of 100\n",
      "Epoch:108/500 AVG Training Loss: 0.0265 AVG Test Loss: 0.045 AVG Training ACC: 99.339% AVG Test ACC: 99.345%\n",
      "EarlyStopping counter: 83 out of 100\n",
      "Epoch:109/500 AVG Training Loss: 0.0252 AVG Test Loss: 0.067 AVG Training ACC: 99.423% AVG Test ACC: 99.321%\n",
      "EarlyStopping counter: 84 out of 100\n",
      "Epoch:110/500 AVG Training Loss: 0.0230 AVG Test Loss: 0.056 AVG Training ACC: 99.446% AVG Test ACC: 99.393%\n",
      "EarlyStopping counter: 85 out of 100\n",
      "Epoch:111/500 AVG Training Loss: 0.0244 AVG Test Loss: 0.046 AVG Training ACC: 99.399% AVG Test ACC: 99.345%\n",
      "EarlyStopping counter: 86 out of 100\n",
      "Epoch:112/500 AVG Training Loss: 0.0269 AVG Test Loss: 0.051 AVG Training ACC: 99.369% AVG Test ACC: 99.298%\n",
      "EarlyStopping counter: 87 out of 100\n",
      "Epoch:113/500 AVG Training Loss: 0.0226 AVG Test Loss: 0.079 AVG Training ACC: 99.438% AVG Test ACC: 99.238%\n",
      "EarlyStopping counter: 88 out of 100\n",
      "Epoch:114/500 AVG Training Loss: 0.0249 AVG Test Loss: 0.047 AVG Training ACC: 99.494% AVG Test ACC: 99.369%\n",
      "EarlyStopping counter: 89 out of 100\n",
      "Epoch:115/500 AVG Training Loss: 0.0197 AVG Test Loss: 0.043 AVG Training ACC: 99.464% AVG Test ACC: 99.369%\n",
      "EarlyStopping counter: 90 out of 100\n",
      "Epoch:116/500 AVG Training Loss: 0.0206 AVG Test Loss: 0.050 AVG Training ACC: 99.467% AVG Test ACC: 99.298%\n",
      "EarlyStopping counter: 91 out of 100\n",
      "Epoch:117/500 AVG Training Loss: 0.0219 AVG Test Loss: 0.058 AVG Training ACC: 99.470% AVG Test ACC: 99.369%\n",
      "EarlyStopping counter: 92 out of 100\n",
      "Epoch:118/500 AVG Training Loss: 0.0256 AVG Test Loss: 0.048 AVG Training ACC: 99.390% AVG Test ACC: 99.202%\n",
      "EarlyStopping counter: 93 out of 100\n",
      "Epoch:119/500 AVG Training Loss: 0.0226 AVG Test Loss: 0.042 AVG Training ACC: 99.426% AVG Test ACC: 99.417%\n",
      "EarlyStopping counter: 94 out of 100\n",
      "Epoch:120/500 AVG Training Loss: 0.0207 AVG Test Loss: 0.061 AVG Training ACC: 99.458% AVG Test ACC: 99.381%\n",
      "EarlyStopping counter: 95 out of 100\n",
      "Epoch:121/500 AVG Training Loss: 0.0224 AVG Test Loss: 0.054 AVG Training ACC: 99.452% AVG Test ACC: 99.393%\n",
      "EarlyStopping counter: 96 out of 100\n",
      "Epoch:122/500 AVG Training Loss: 0.0200 AVG Test Loss: 0.065 AVG Training ACC: 99.482% AVG Test ACC: 99.357%\n",
      "EarlyStopping counter: 97 out of 100\n",
      "Epoch:123/500 AVG Training Loss: 0.0199 AVG Test Loss: 0.058 AVG Training ACC: 99.491% AVG Test ACC: 99.440%\n",
      "EarlyStopping counter: 98 out of 100\n",
      "Epoch:124/500 AVG Training Loss: 0.0225 AVG Test Loss: 0.070 AVG Training ACC: 99.449% AVG Test ACC: 99.333%\n",
      "EarlyStopping counter: 99 out of 100\n",
      "Epoch:125/500 AVG Training Loss: 0.0221 AVG Test Loss: 0.066 AVG Training ACC: 99.464% AVG Test ACC: 99.345%\n",
      "EarlyStopping counter: 100 out of 100\n",
      "Early stopping\n"
     ]
    }
   ],
   "source": [
    "total_epochs = 500\n",
    "history = {'train_loss': [], 'valid_loss': [],'train_acc':[],'valid_acc':[]}\n",
    "early_stopping = EarlyStopping(patience=100, verbose=True)\n",
    "for epoch in range(total_epochs):\n",
    "    train_acc, train_loss, valid_acc, valid_loss = 0, 0, 0, 0\n",
    "    model.train()\n",
    "    for (images, labels) in train_dataloader:\n",
    "        images, labels = images.float().to(device), labels.to(device)\n",
    "        output = model(images)\n",
    "        loss = criterion(output, labels)\n",
    "        optimizer.zero_grad()\n",
    "        loss.backward()\n",
    "        optimizer.step()\n",
    "        \n",
    "        train_loss += loss.item() * images.size(0)\n",
    "        \n",
    "        prediction = torch.argmax(output, dim=1)\n",
    "        train_acc += (prediction==labels).sum().item()\n",
    "        \n",
    "    model.eval()\n",
    "    for images, labels in valid_dataloader:\n",
    "        images, labels = images.float().to(device), labels.to(device)\n",
    "        output = model(images)\n",
    "        loss = criterion(output, labels)\n",
    "        \n",
    "        valid_loss += loss.item() * images.size(0)\n",
    "        \n",
    "        prediction = torch.argmax(output,dim=1)\n",
    "        valid_acc += (prediction==labels).sum().item()\n",
    "    \n",
    "    \n",
    "    train_loss = train_loss / len(train_dataset) \n",
    "    train_acc = train_acc / len(train_dataset) * 100\n",
    "    valid_loss = valid_loss / len(valid_dataset)\n",
    "    valid_acc = valid_acc / len(valid_dataset) * 100\n",
    "    \n",
    "    print(\"Epoch:{}/{} AVG Training Loss: {:.4f} AVG Test Loss: {:.3f} AVG Training ACC: {:.3f}% AVG Test ACC: {:.3f}%\".format(\n",
    "           epoch+1, total_epochs, train_loss, valid_loss, train_acc, valid_acc\n",
    "        ))\n",
    "    history['train_loss'].append(train_loss)\n",
    "    history['valid_loss'].append(valid_loss)\n",
    "    history['train_acc'].append(train_acc)\n",
    "    history['valid_acc'].append(valid_acc)\n",
    "    \n",
    "    early_stopping(valid_loss, model)\n",
    "    \n",
    "    if early_stopping.early_stop:\n",
    "            print(\"Early stopping\")\n",
    "            break"
   ]
  },
  {
   "cell_type": "code",
   "execution_count": 28,
   "metadata": {
    "execution": {
     "iopub.execute_input": "2021-09-10T17:18:21.231467Z",
     "iopub.status.busy": "2021-09-10T17:18:21.231133Z",
     "iopub.status.idle": "2021-09-10T17:18:21.273672Z",
     "shell.execute_reply": "2021-09-10T17:18:21.272654Z",
     "shell.execute_reply.started": "2021-09-10T17:18:21.231433Z"
    }
   },
   "outputs": [
    {
     "data": {
      "text/plain": [
       "<All keys matched successfully>"
      ]
     },
     "execution_count": 28,
     "metadata": {},
     "output_type": "execute_result"
    }
   ],
   "source": [
    "model.load_state_dict(torch.load('checkpoint.pt'))"
   ]
  },
  {
   "cell_type": "code",
   "execution_count": 29,
   "metadata": {
    "execution": {
     "iopub.execute_input": "2021-09-10T17:18:21.275348Z",
     "iopub.status.busy": "2021-09-10T17:18:21.275010Z",
     "iopub.status.idle": "2021-09-10T17:18:23.853418Z",
     "shell.execute_reply": "2021-09-10T17:18:23.852556Z",
     "shell.execute_reply.started": "2021-09-10T17:18:21.275312Z"
    }
   },
   "outputs": [
    {
     "name": "stdout",
     "output_type": "stream",
     "text": [
      "[[    1]\n",
      " [    2]\n",
      " [    3]\n",
      " ...\n",
      " [27998]\n",
      " [27999]\n",
      " [28000]]\n",
      "tensor([[2],\n",
      "        [0],\n",
      "        [9],\n",
      "        ...,\n",
      "        [3],\n",
      "        [9],\n",
      "        [2]])\n",
      "       ImageId  Label\n",
      "0            1      2\n",
      "1            2      0\n",
      "2            3      9\n",
      "3            4      0\n",
      "4            5      3\n",
      "...        ...    ...\n",
      "27995    27996      9\n",
      "27996    27997      7\n",
      "27997    27998      3\n",
      "27998    27999      9\n",
      "27999    28000      2\n",
      "\n",
      "[28000 rows x 2 columns]\n"
     ]
    }
   ],
   "source": [
    "import numpy as np\n",
    "\n",
    "model.eval()\n",
    "test_pred = torch.LongTensor()\n",
    "for data in test_dataloader:\n",
    "    data = data.float().to(device)\n",
    "    output=model(data)\n",
    "    pred = torch.argmax(output,dim=1)\n",
    "    #1-dimensional tensor->pred, test_pred\n",
    "    test_pred = torch.cat((test_pred,pred.cpu()), dim=0)\n",
    "    \n",
    "\n",
    "first_column = np.arange(1,len(test_dataset)+1)\n",
    "first_column = first_column.reshape(-1,1)\n",
    "test_pred = test_pred.reshape(-1,1)\n",
    "print(first_column)\n",
    "print(test_pred)\n",
    "test_df = pd.DataFrame(np.concatenate((first_column,test_pred.numpy()),axis=1), columns=['ImageId', 'Label'])\n",
    "print(test_df)"
   ]
  },
  {
   "cell_type": "code",
   "execution_count": 30,
   "metadata": {
    "execution": {
     "iopub.execute_input": "2021-09-10T17:18:23.855124Z",
     "iopub.status.busy": "2021-09-10T17:18:23.854615Z",
     "iopub.status.idle": "2021-09-10T17:18:24.009453Z",
     "shell.execute_reply": "2021-09-10T17:18:24.008507Z",
     "shell.execute_reply.started": "2021-09-10T17:18:23.855085Z"
    }
   },
   "outputs": [
    {
     "data": {
      "image/png": "[encoded data removed]",
      "text/plain": [
       "<Figure size 432x288 with 1 Axes>"
      ]
     },
     "metadata": {
      "needs_background": "light"
     },
     "output_type": "display_data"
    }
   ],
   "source": [
    "%matplotlib inline\n",
    "import matplotlib.pyplot as plt\n",
    "epochs = np.arange(1, len(history['train_loss'])+1)\n",
    "plt.figure()\n",
    "plt.plot(epochs, history['train_loss'], label = 'train_loss')\n",
    "plt.plot(epochs, history['valid_loss'], label = 'valid_loss')\n",
    "plt.legend(loc = \"upper left\")\n",
    "plt.xlabel(\"epoch\")\n",
    "plt.ylabel(\"loss\")\n",
    "plt.show()"
   ]
  },
  {
   "cell_type": "code",
   "execution_count": 31,
   "metadata": {
    "execution": {
     "iopub.execute_input": "2021-09-10T17:18:24.011222Z",
     "iopub.status.busy": "2021-09-10T17:18:24.010856Z",
     "iopub.status.idle": "2021-09-10T17:18:24.166537Z",
     "shell.execute_reply": "2021-09-10T17:18:24.165684Z",
     "shell.execute_reply.started": "2021-09-10T17:18:24.011186Z"
    }
   },
   "outputs": [
    {
     "data": {
      "image/png": "[encoded data removed]",
      "text/plain": [
       "<Figure size 432x288 with 1 Axes>"
      ]
     },
     "metadata": {
      "needs_background": "light"
     },
     "output_type": "display_data"
    }
   ],
   "source": [
    "epochs = np.arange(1, len(history['train_loss'])+1)\n",
    "plt.figure()\n",
    "plt.plot(epochs, history['train_acc'], label = 'train_acc')\n",
    "plt.plot(epochs, history['valid_acc'], label = 'valid_acc')\n",
    "plt.legend(loc = \"upper left\")\n",
    "plt.xlabel(\"epoch\")\n",
    "plt.ylabel(\"loss\")\n",
    "plt.show()"
   ]
  },
  {
   "cell_type": "code",
   "execution_count": 32,
   "metadata": {
    "execution": {
     "iopub.execute_input": "2021-09-10T17:18:24.168186Z",
     "iopub.status.busy": "2021-09-10T17:18:24.167814Z",
     "iopub.status.idle": "2021-09-10T17:18:24.218183Z",
     "shell.execute_reply": "2021-09-10T17:18:24.217477Z",
     "shell.execute_reply.started": "2021-09-10T17:18:24.168149Z"
    }
   },
   "outputs": [],
   "source": [
    "test_df.to_csv('submission.csv', index=False)"
   ]
  },
  {
   "cell_type": "code",
   "execution_count": 33,
   "metadata": {
    "execution": {
     "iopub.execute_input": "2021-09-10T17:18:24.219703Z",
     "iopub.status.busy": "2021-09-10T17:18:24.219363Z",
     "iopub.status.idle": "2021-09-10T17:18:24.234865Z",
     "shell.execute_reply": "2021-09-10T17:18:24.234044Z",
     "shell.execute_reply.started": "2021-09-10T17:18:24.219667Z"
    }
   },
   "outputs": [
    {
     "name": "stdout",
     "output_type": "stream",
     "text": [
      "       ImageId  Label\n",
      "0            1      2\n",
      "1            2      0\n",
      "2            3      9\n",
      "3            4      0\n",
      "4            5      3\n",
      "...        ...    ...\n",
      "27995    27996      9\n",
      "27996    27997      7\n",
      "27997    27998      3\n",
      "27998    27999      9\n",
      "27999    28000      2\n",
      "\n",
      "[28000 rows x 2 columns]\n",
      "9\n"
     ]
    }
   ],
   "source": [
    "df = pd.read_csv('./submission.csv')\n",
    "print(df)\n",
    "print(df['Label'].max())"
   ]
  },
  {
   "cell_type": "code",
   "execution_count": null,
   "metadata": {},
   "outputs": [],
   "source": []
  }
 ],
 "metadata": {
  "kernelspec": {
   "display_name": "Python 3",
   "language": "python",
   "name": "python3"
  },
  "language_info": {
   "codemirror_mode": {
    "name": "ipython",
    "version": 3
   },
   "file_extension": ".py",
   "mimetype": "text/x-python",
   "name": "python",
   "nbconvert_exporter": "python",
   "pygments_lexer": "ipython3",
   "version": "3.8.3"
  }
 },
 "nbformat": 4,
 "nbformat_minor": 4
}
